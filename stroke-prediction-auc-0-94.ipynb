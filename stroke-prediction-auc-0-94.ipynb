{
 "cells": [
  {
   "cell_type": "code",
   "execution_count": 1,
   "id": "scientific-prize",
   "metadata": {
    "_cell_guid": "b1076dfc-b9ad-4769-8c92-a6c4dae69d19",
    "_uuid": "8f2839f25d086af736a60e9eeb907d3b93b6e0e5",
    "execution": {
     "iopub.execute_input": "2021-05-12T06:52:27.119140Z",
     "iopub.status.busy": "2021-05-12T06:52:27.118007Z",
     "iopub.status.idle": "2021-05-12T06:52:27.135689Z",
     "shell.execute_reply": "2021-05-12T06:52:27.136490Z"
    },
    "papermill": {
     "duration": 0.090896,
     "end_time": "2021-05-12T06:52:27.136886",
     "exception": false,
     "start_time": "2021-05-12T06:52:27.045990",
     "status": "completed"
    },
    "tags": []
   },
   "outputs": [
    {
     "name": "stdout",
     "output_type": "stream",
     "text": [
      "/kaggle/input/stroke-prediction-dataset/healthcare-dataset-stroke-data.csv\n"
     ]
    }
   ],
   "source": [
    "# This Python 3 environment comes with many helpful analytics libraries installed\n",
    "# It is defined by the kaggle/python Docker image: https://github.com/kaggle/docker-python\n",
    "# For example, here's several helpful packages to load\n",
    "\n",
    "import numpy as np # linear algebra\n",
    "import pandas as pd # data processing, CSV file I/O (e.g. pd.read_csv)\n",
    "\n",
    "# Input data files are available in the read-only \"../input/\" directory\n",
    "# For example, running this (by clicking run or pressing Shift+Enter) will list all files under the input directory\n",
    "\n",
    "import os\n",
    "for dirname, _, filenames in os.walk('/kaggle/input'):\n",
    "    for filename in filenames:\n",
    "        print(os.path.join(dirname, filename))\n",
    "\n",
    "# You can write up to 20GB to the current directory (/kaggle/working/) that gets preserved as output when you create a version using \"Save & Run All\" \n",
    "# You can also write temporary files to /kaggle/temp/, but they won't be saved outside of the current session"
   ]
  },
  {
   "cell_type": "code",
   "execution_count": 2,
   "id": "social-trustee",
   "metadata": {
    "execution": {
     "iopub.execute_input": "2021-05-12T06:52:27.280515Z",
     "iopub.status.busy": "2021-05-12T06:52:27.279833Z",
     "iopub.status.idle": "2021-05-12T06:52:28.199139Z",
     "shell.execute_reply": "2021-05-12T06:52:28.198420Z"
    },
    "papermill": {
     "duration": 0.991519,
     "end_time": "2021-05-12T06:52:28.199319",
     "exception": false,
     "start_time": "2021-05-12T06:52:27.207800",
     "status": "completed"
    },
    "tags": []
   },
   "outputs": [],
   "source": [
    "import warnings  \n",
    "warnings.filterwarnings('ignore')\n",
    "import matplotlib.pyplot as plt\n",
    "import seaborn as sns"
   ]
  },
  {
   "cell_type": "markdown",
   "id": "federal-mortality",
   "metadata": {
    "papermill": {
     "duration": 0.068441,
     "end_time": "2021-05-12T06:52:28.337296",
     "exception": false,
     "start_time": "2021-05-12T06:52:28.268855",
     "status": "completed"
    },
    "tags": []
   },
   "source": [
    "**CONTEXT**\n",
    "\n",
    "According to the World Health Organization (WHO) stroke is the 2nd leading cause of death globally, responsible for approximately 11% of total deaths.\n",
    "This dataset is used to predict whether a patient is likely to get stroke based on the input parameters like gender, age, various diseases, and smoking status. Each row in the data provides relavant information about the patient.*"
   ]
  },
  {
   "cell_type": "markdown",
   "id": "yellow-explorer",
   "metadata": {
    "papermill": {
     "duration": 0.0696,
     "end_time": "2021-05-12T06:52:28.475220",
     "exception": false,
     "start_time": "2021-05-12T06:52:28.405620",
     "status": "completed"
    },
    "tags": []
   },
   "source": [
    "*A stroke occurs when the blood supply to part of your brain is interrupted or reduced, preventing brain tissue from getting oxygen and nutrients. Brain cells begin to die in minutes*\n",
    "*There can be various factors related to occurence to stroke. So using the data given we try to list out the potential factors by using various visualization techniques. *"
   ]
  },
  {
   "cell_type": "markdown",
   "id": "signal-people",
   "metadata": {
    "papermill": {
     "duration": 0.068044,
     "end_time": "2021-05-12T06:52:28.611501",
     "exception": false,
     "start_time": "2021-05-12T06:52:28.543457",
     "status": "completed"
    },
    "tags": []
   },
   "source": [
    "**READ DATA**"
   ]
  },
  {
   "cell_type": "code",
   "execution_count": 3,
   "id": "enhanced-donor",
   "metadata": {
    "execution": {
     "iopub.execute_input": "2021-05-12T06:52:28.755501Z",
     "iopub.status.busy": "2021-05-12T06:52:28.754611Z",
     "iopub.status.idle": "2021-05-12T06:52:28.823405Z",
     "shell.execute_reply": "2021-05-12T06:52:28.823978Z"
    },
    "papermill": {
     "duration": 0.14403,
     "end_time": "2021-05-12T06:52:28.824175",
     "exception": false,
     "start_time": "2021-05-12T06:52:28.680145",
     "status": "completed"
    },
    "tags": []
   },
   "outputs": [
    {
     "data": {
      "text/html": [
       "<div>\n",
       "<style scoped>\n",
       "    .dataframe tbody tr th:only-of-type {\n",
       "        vertical-align: middle;\n",
       "    }\n",
       "\n",
       "    .dataframe tbody tr th {\n",
       "        vertical-align: top;\n",
       "    }\n",
       "\n",
       "    .dataframe thead th {\n",
       "        text-align: right;\n",
       "    }\n",
       "</style>\n",
       "<table border=\"1\" class=\"dataframe\">\n",
       "  <thead>\n",
       "    <tr style=\"text-align: right;\">\n",
       "      <th></th>\n",
       "      <th>id</th>\n",
       "      <th>gender</th>\n",
       "      <th>age</th>\n",
       "      <th>hypertension</th>\n",
       "      <th>heart_disease</th>\n",
       "      <th>ever_married</th>\n",
       "      <th>work_type</th>\n",
       "      <th>Residence_type</th>\n",
       "      <th>avg_glucose_level</th>\n",
       "      <th>bmi</th>\n",
       "      <th>smoking_status</th>\n",
       "      <th>stroke</th>\n",
       "    </tr>\n",
       "  </thead>\n",
       "  <tbody>\n",
       "    <tr>\n",
       "      <th>0</th>\n",
       "      <td>9046</td>\n",
       "      <td>Male</td>\n",
       "      <td>67.0</td>\n",
       "      <td>0</td>\n",
       "      <td>1</td>\n",
       "      <td>Yes</td>\n",
       "      <td>Private</td>\n",
       "      <td>Urban</td>\n",
       "      <td>228.69</td>\n",
       "      <td>36.6</td>\n",
       "      <td>formerly smoked</td>\n",
       "      <td>1</td>\n",
       "    </tr>\n",
       "    <tr>\n",
       "      <th>1</th>\n",
       "      <td>51676</td>\n",
       "      <td>Female</td>\n",
       "      <td>61.0</td>\n",
       "      <td>0</td>\n",
       "      <td>0</td>\n",
       "      <td>Yes</td>\n",
       "      <td>Self-employed</td>\n",
       "      <td>Rural</td>\n",
       "      <td>202.21</td>\n",
       "      <td>NaN</td>\n",
       "      <td>never smoked</td>\n",
       "      <td>1</td>\n",
       "    </tr>\n",
       "    <tr>\n",
       "      <th>2</th>\n",
       "      <td>31112</td>\n",
       "      <td>Male</td>\n",
       "      <td>80.0</td>\n",
       "      <td>0</td>\n",
       "      <td>1</td>\n",
       "      <td>Yes</td>\n",
       "      <td>Private</td>\n",
       "      <td>Rural</td>\n",
       "      <td>105.92</td>\n",
       "      <td>32.5</td>\n",
       "      <td>never smoked</td>\n",
       "      <td>1</td>\n",
       "    </tr>\n",
       "    <tr>\n",
       "      <th>3</th>\n",
       "      <td>60182</td>\n",
       "      <td>Female</td>\n",
       "      <td>49.0</td>\n",
       "      <td>0</td>\n",
       "      <td>0</td>\n",
       "      <td>Yes</td>\n",
       "      <td>Private</td>\n",
       "      <td>Urban</td>\n",
       "      <td>171.23</td>\n",
       "      <td>34.4</td>\n",
       "      <td>smokes</td>\n",
       "      <td>1</td>\n",
       "    </tr>\n",
       "    <tr>\n",
       "      <th>4</th>\n",
       "      <td>1665</td>\n",
       "      <td>Female</td>\n",
       "      <td>79.0</td>\n",
       "      <td>1</td>\n",
       "      <td>0</td>\n",
       "      <td>Yes</td>\n",
       "      <td>Self-employed</td>\n",
       "      <td>Rural</td>\n",
       "      <td>174.12</td>\n",
       "      <td>24.0</td>\n",
       "      <td>never smoked</td>\n",
       "      <td>1</td>\n",
       "    </tr>\n",
       "    <tr>\n",
       "      <th>...</th>\n",
       "      <td>...</td>\n",
       "      <td>...</td>\n",
       "      <td>...</td>\n",
       "      <td>...</td>\n",
       "      <td>...</td>\n",
       "      <td>...</td>\n",
       "      <td>...</td>\n",
       "      <td>...</td>\n",
       "      <td>...</td>\n",
       "      <td>...</td>\n",
       "      <td>...</td>\n",
       "      <td>...</td>\n",
       "    </tr>\n",
       "    <tr>\n",
       "      <th>5105</th>\n",
       "      <td>18234</td>\n",
       "      <td>Female</td>\n",
       "      <td>80.0</td>\n",
       "      <td>1</td>\n",
       "      <td>0</td>\n",
       "      <td>Yes</td>\n",
       "      <td>Private</td>\n",
       "      <td>Urban</td>\n",
       "      <td>83.75</td>\n",
       "      <td>NaN</td>\n",
       "      <td>never smoked</td>\n",
       "      <td>0</td>\n",
       "    </tr>\n",
       "    <tr>\n",
       "      <th>5106</th>\n",
       "      <td>44873</td>\n",
       "      <td>Female</td>\n",
       "      <td>81.0</td>\n",
       "      <td>0</td>\n",
       "      <td>0</td>\n",
       "      <td>Yes</td>\n",
       "      <td>Self-employed</td>\n",
       "      <td>Urban</td>\n",
       "      <td>125.20</td>\n",
       "      <td>40.0</td>\n",
       "      <td>never smoked</td>\n",
       "      <td>0</td>\n",
       "    </tr>\n",
       "    <tr>\n",
       "      <th>5107</th>\n",
       "      <td>19723</td>\n",
       "      <td>Female</td>\n",
       "      <td>35.0</td>\n",
       "      <td>0</td>\n",
       "      <td>0</td>\n",
       "      <td>Yes</td>\n",
       "      <td>Self-employed</td>\n",
       "      <td>Rural</td>\n",
       "      <td>82.99</td>\n",
       "      <td>30.6</td>\n",
       "      <td>never smoked</td>\n",
       "      <td>0</td>\n",
       "    </tr>\n",
       "    <tr>\n",
       "      <th>5108</th>\n",
       "      <td>37544</td>\n",
       "      <td>Male</td>\n",
       "      <td>51.0</td>\n",
       "      <td>0</td>\n",
       "      <td>0</td>\n",
       "      <td>Yes</td>\n",
       "      <td>Private</td>\n",
       "      <td>Rural</td>\n",
       "      <td>166.29</td>\n",
       "      <td>25.6</td>\n",
       "      <td>formerly smoked</td>\n",
       "      <td>0</td>\n",
       "    </tr>\n",
       "    <tr>\n",
       "      <th>5109</th>\n",
       "      <td>44679</td>\n",
       "      <td>Female</td>\n",
       "      <td>44.0</td>\n",
       "      <td>0</td>\n",
       "      <td>0</td>\n",
       "      <td>Yes</td>\n",
       "      <td>Govt_job</td>\n",
       "      <td>Urban</td>\n",
       "      <td>85.28</td>\n",
       "      <td>26.2</td>\n",
       "      <td>Unknown</td>\n",
       "      <td>0</td>\n",
       "    </tr>\n",
       "  </tbody>\n",
       "</table>\n",
       "<p>5110 rows × 12 columns</p>\n",
       "</div>"
      ],
      "text/plain": [
       "         id  gender   age  hypertension  heart_disease ever_married  \\\n",
       "0      9046    Male  67.0             0              1          Yes   \n",
       "1     51676  Female  61.0             0              0          Yes   \n",
       "2     31112    Male  80.0             0              1          Yes   \n",
       "3     60182  Female  49.0             0              0          Yes   \n",
       "4      1665  Female  79.0             1              0          Yes   \n",
       "...     ...     ...   ...           ...            ...          ...   \n",
       "5105  18234  Female  80.0             1              0          Yes   \n",
       "5106  44873  Female  81.0             0              0          Yes   \n",
       "5107  19723  Female  35.0             0              0          Yes   \n",
       "5108  37544    Male  51.0             0              0          Yes   \n",
       "5109  44679  Female  44.0             0              0          Yes   \n",
       "\n",
       "          work_type Residence_type  avg_glucose_level   bmi   smoking_status  \\\n",
       "0           Private          Urban             228.69  36.6  formerly smoked   \n",
       "1     Self-employed          Rural             202.21   NaN     never smoked   \n",
       "2           Private          Rural             105.92  32.5     never smoked   \n",
       "3           Private          Urban             171.23  34.4           smokes   \n",
       "4     Self-employed          Rural             174.12  24.0     never smoked   \n",
       "...             ...            ...                ...   ...              ...   \n",
       "5105        Private          Urban              83.75   NaN     never smoked   \n",
       "5106  Self-employed          Urban             125.20  40.0     never smoked   \n",
       "5107  Self-employed          Rural              82.99  30.6     never smoked   \n",
       "5108        Private          Rural             166.29  25.6  formerly smoked   \n",
       "5109       Govt_job          Urban              85.28  26.2          Unknown   \n",
       "\n",
       "      stroke  \n",
       "0          1  \n",
       "1          1  \n",
       "2          1  \n",
       "3          1  \n",
       "4          1  \n",
       "...      ...  \n",
       "5105       0  \n",
       "5106       0  \n",
       "5107       0  \n",
       "5108       0  \n",
       "5109       0  \n",
       "\n",
       "[5110 rows x 12 columns]"
      ]
     },
     "execution_count": 3,
     "metadata": {},
     "output_type": "execute_result"
    }
   ],
   "source": [
    "data = pd.read_csv('../input/stroke-prediction-dataset/healthcare-dataset-stroke-data.csv')\n",
    "data"
   ]
  },
  {
   "cell_type": "markdown",
   "id": "medieval-italy",
   "metadata": {
    "papermill": {
     "duration": 0.070308,
     "end_time": "2021-05-12T06:52:28.964611",
     "exception": false,
     "start_time": "2021-05-12T06:52:28.894303",
     "status": "completed"
    },
    "tags": []
   },
   "source": [
    "**CHECK FOR NULL VALUES**"
   ]
  },
  {
   "cell_type": "code",
   "execution_count": 4,
   "id": "unknown-wildlife",
   "metadata": {
    "execution": {
     "iopub.execute_input": "2021-05-12T06:52:29.111344Z",
     "iopub.status.busy": "2021-05-12T06:52:29.110652Z",
     "iopub.status.idle": "2021-05-12T06:52:29.116911Z",
     "shell.execute_reply": "2021-05-12T06:52:29.116421Z"
    },
    "papermill": {
     "duration": 0.083272,
     "end_time": "2021-05-12T06:52:29.117052",
     "exception": false,
     "start_time": "2021-05-12T06:52:29.033780",
     "status": "completed"
    },
    "tags": []
   },
   "outputs": [
    {
     "data": {
      "text/plain": [
       "id                     0\n",
       "gender                 0\n",
       "age                    0\n",
       "hypertension           0\n",
       "heart_disease          0\n",
       "ever_married           0\n",
       "work_type              0\n",
       "Residence_type         0\n",
       "avg_glucose_level      0\n",
       "bmi                  201\n",
       "smoking_status         0\n",
       "stroke                 0\n",
       "dtype: int64"
      ]
     },
     "execution_count": 4,
     "metadata": {},
     "output_type": "execute_result"
    }
   ],
   "source": [
    "data.isnull().sum()"
   ]
  },
  {
   "cell_type": "markdown",
   "id": "vocational-portrait",
   "metadata": {
    "papermill": {
     "duration": 0.069912,
     "end_time": "2021-05-12T06:52:29.257050",
     "exception": false,
     "start_time": "2021-05-12T06:52:29.187138",
     "status": "completed"
    },
    "tags": []
   },
   "source": [
    "*AS WE CAN SEE BMI CONTAINS NULL VALUES AND WE NEED TO FIX THIS*"
   ]
  },
  {
   "cell_type": "markdown",
   "id": "handmade-writer",
   "metadata": {
    "papermill": {
     "duration": 0.069476,
     "end_time": "2021-05-12T06:52:29.396588",
     "exception": false,
     "start_time": "2021-05-12T06:52:29.327112",
     "status": "completed"
    },
    "tags": []
   },
   "source": [
    "***FILLING THE NULL VALUES WITH AVERAGE OF THE BMI'S***"
   ]
  },
  {
   "cell_type": "code",
   "execution_count": 5,
   "id": "involved-brunei",
   "metadata": {
    "execution": {
     "iopub.execute_input": "2021-05-12T06:52:29.545497Z",
     "iopub.status.busy": "2021-05-12T06:52:29.544589Z",
     "iopub.status.idle": "2021-05-12T06:52:29.548787Z",
     "shell.execute_reply": "2021-05-12T06:52:29.549249Z"
    },
    "papermill": {
     "duration": 0.081693,
     "end_time": "2021-05-12T06:52:29.549426",
     "exception": false,
     "start_time": "2021-05-12T06:52:29.467733",
     "status": "completed"
    },
    "tags": []
   },
   "outputs": [
    {
     "data": {
      "text/plain": [
       "28.893236911794666"
      ]
     },
     "execution_count": 5,
     "metadata": {},
     "output_type": "execute_result"
    }
   ],
   "source": [
    "avg = data['bmi'].mean()\n",
    "avg"
   ]
  },
  {
   "cell_type": "code",
   "execution_count": 6,
   "id": "pregnant-airline",
   "metadata": {
    "execution": {
     "iopub.execute_input": "2021-05-12T06:52:29.696567Z",
     "iopub.status.busy": "2021-05-12T06:52:29.695733Z",
     "iopub.status.idle": "2021-05-12T06:52:29.699043Z",
     "shell.execute_reply": "2021-05-12T06:52:29.698370Z"
    },
    "papermill": {
     "duration": 0.079339,
     "end_time": "2021-05-12T06:52:29.699182",
     "exception": false,
     "start_time": "2021-05-12T06:52:29.619843",
     "status": "completed"
    },
    "tags": []
   },
   "outputs": [],
   "source": [
    "data.bmi=(data.bmi.fillna(28.74))"
   ]
  },
  {
   "cell_type": "markdown",
   "id": "broke-instrument",
   "metadata": {
    "papermill": {
     "duration": 0.071137,
     "end_time": "2021-05-12T06:52:29.841044",
     "exception": false,
     "start_time": "2021-05-12T06:52:29.769907",
     "status": "completed"
    },
    "tags": []
   },
   "source": [
    "FOR ADULTS THE NORMAL BMI RANGE IS BETWEEN 18.5 TO 24.9 FOR ADULTS AND AS WE OBSERVE THAT AVERAGE BMI CALCULTION COMES OUT TO BE MORE THAN NORMAL THAT LARGE PROPROTION OF THE POPULATION IN THE GIVEN DATASET IS OVERWEIGHT"
   ]
  },
  {
   "cell_type": "code",
   "execution_count": 7,
   "id": "abandoned-bolivia",
   "metadata": {
    "execution": {
     "iopub.execute_input": "2021-05-12T06:52:29.991794Z",
     "iopub.status.busy": "2021-05-12T06:52:29.989106Z",
     "iopub.status.idle": "2021-05-12T06:52:29.996583Z",
     "shell.execute_reply": "2021-05-12T06:52:29.995877Z"
    },
    "papermill": {
     "duration": 0.085433,
     "end_time": "2021-05-12T06:52:29.996739",
     "exception": false,
     "start_time": "2021-05-12T06:52:29.911306",
     "status": "completed"
    },
    "tags": []
   },
   "outputs": [
    {
     "data": {
      "text/plain": [
       "id                   0\n",
       "gender               0\n",
       "age                  0\n",
       "hypertension         0\n",
       "heart_disease        0\n",
       "ever_married         0\n",
       "work_type            0\n",
       "Residence_type       0\n",
       "avg_glucose_level    0\n",
       "bmi                  0\n",
       "smoking_status       0\n",
       "stroke               0\n",
       "dtype: int64"
      ]
     },
     "execution_count": 7,
     "metadata": {},
     "output_type": "execute_result"
    }
   ],
   "source": [
    "data.isnull().sum()"
   ]
  },
  {
   "cell_type": "markdown",
   "id": "verbal-permission",
   "metadata": {
    "papermill": {
     "duration": 0.070354,
     "end_time": "2021-05-12T06:52:30.138282",
     "exception": false,
     "start_time": "2021-05-12T06:52:30.067928",
     "status": "completed"
    },
    "tags": []
   },
   "source": [
    "SO NOW NO NULL VALUES PRESENT"
   ]
  },
  {
   "cell_type": "code",
   "execution_count": 8,
   "id": "unexpected-borough",
   "metadata": {
    "execution": {
     "iopub.execute_input": "2021-05-12T06:52:30.289851Z",
     "iopub.status.busy": "2021-05-12T06:52:30.289165Z",
     "iopub.status.idle": "2021-05-12T06:52:30.306757Z",
     "shell.execute_reply": "2021-05-12T06:52:30.307588Z"
    },
    "papermill": {
     "duration": 0.098639,
     "end_time": "2021-05-12T06:52:30.307878",
     "exception": false,
     "start_time": "2021-05-12T06:52:30.209239",
     "status": "completed"
    },
    "tags": []
   },
   "outputs": [
    {
     "name": "stdout",
     "output_type": "stream",
     "text": [
      "<class 'pandas.core.frame.DataFrame'>\n",
      "RangeIndex: 5110 entries, 0 to 5109\n",
      "Data columns (total 12 columns):\n",
      " #   Column             Non-Null Count  Dtype  \n",
      "---  ------             --------------  -----  \n",
      " 0   id                 5110 non-null   int64  \n",
      " 1   gender             5110 non-null   object \n",
      " 2   age                5110 non-null   float64\n",
      " 3   hypertension       5110 non-null   int64  \n",
      " 4   heart_disease      5110 non-null   int64  \n",
      " 5   ever_married       5110 non-null   object \n",
      " 6   work_type          5110 non-null   object \n",
      " 7   Residence_type     5110 non-null   object \n",
      " 8   avg_glucose_level  5110 non-null   float64\n",
      " 9   bmi                5110 non-null   float64\n",
      " 10  smoking_status     5110 non-null   object \n",
      " 11  stroke             5110 non-null   int64  \n",
      "dtypes: float64(3), int64(4), object(5)\n",
      "memory usage: 479.2+ KB\n"
     ]
    }
   ],
   "source": [
    "data.info() # THIS FUNCTION LETS US KNOW WHAT DATA TYPE VARIABLE ARE PROVIDED IN THE DATASET"
   ]
  },
  {
   "cell_type": "code",
   "execution_count": 9,
   "id": "north-montana",
   "metadata": {
    "execution": {
     "iopub.execute_input": "2021-05-12T06:52:30.460326Z",
     "iopub.status.busy": "2021-05-12T06:52:30.459616Z",
     "iopub.status.idle": "2021-05-12T06:52:30.494961Z",
     "shell.execute_reply": "2021-05-12T06:52:30.494283Z"
    },
    "papermill": {
     "duration": 0.114797,
     "end_time": "2021-05-12T06:52:30.495118",
     "exception": false,
     "start_time": "2021-05-12T06:52:30.380321",
     "status": "completed"
    },
    "tags": []
   },
   "outputs": [
    {
     "data": {
      "text/html": [
       "<div>\n",
       "<style scoped>\n",
       "    .dataframe tbody tr th:only-of-type {\n",
       "        vertical-align: middle;\n",
       "    }\n",
       "\n",
       "    .dataframe tbody tr th {\n",
       "        vertical-align: top;\n",
       "    }\n",
       "\n",
       "    .dataframe thead th {\n",
       "        text-align: right;\n",
       "    }\n",
       "</style>\n",
       "<table border=\"1\" class=\"dataframe\">\n",
       "  <thead>\n",
       "    <tr style=\"text-align: right;\">\n",
       "      <th></th>\n",
       "      <th>id</th>\n",
       "      <th>age</th>\n",
       "      <th>hypertension</th>\n",
       "      <th>heart_disease</th>\n",
       "      <th>avg_glucose_level</th>\n",
       "      <th>bmi</th>\n",
       "      <th>stroke</th>\n",
       "    </tr>\n",
       "  </thead>\n",
       "  <tbody>\n",
       "    <tr>\n",
       "      <th>count</th>\n",
       "      <td>5110.000000</td>\n",
       "      <td>5110.000000</td>\n",
       "      <td>5110.000000</td>\n",
       "      <td>5110.000000</td>\n",
       "      <td>5110.000000</td>\n",
       "      <td>5110.000000</td>\n",
       "      <td>5110.000000</td>\n",
       "    </tr>\n",
       "    <tr>\n",
       "      <th>mean</th>\n",
       "      <td>36517.829354</td>\n",
       "      <td>43.226614</td>\n",
       "      <td>0.097456</td>\n",
       "      <td>0.054012</td>\n",
       "      <td>106.147677</td>\n",
       "      <td>28.887209</td>\n",
       "      <td>0.048728</td>\n",
       "    </tr>\n",
       "    <tr>\n",
       "      <th>std</th>\n",
       "      <td>21161.721625</td>\n",
       "      <td>22.612647</td>\n",
       "      <td>0.296607</td>\n",
       "      <td>0.226063</td>\n",
       "      <td>45.283560</td>\n",
       "      <td>7.698075</td>\n",
       "      <td>0.215320</td>\n",
       "    </tr>\n",
       "    <tr>\n",
       "      <th>min</th>\n",
       "      <td>67.000000</td>\n",
       "      <td>0.080000</td>\n",
       "      <td>0.000000</td>\n",
       "      <td>0.000000</td>\n",
       "      <td>55.120000</td>\n",
       "      <td>10.300000</td>\n",
       "      <td>0.000000</td>\n",
       "    </tr>\n",
       "    <tr>\n",
       "      <th>25%</th>\n",
       "      <td>17741.250000</td>\n",
       "      <td>25.000000</td>\n",
       "      <td>0.000000</td>\n",
       "      <td>0.000000</td>\n",
       "      <td>77.245000</td>\n",
       "      <td>23.800000</td>\n",
       "      <td>0.000000</td>\n",
       "    </tr>\n",
       "    <tr>\n",
       "      <th>50%</th>\n",
       "      <td>36932.000000</td>\n",
       "      <td>45.000000</td>\n",
       "      <td>0.000000</td>\n",
       "      <td>0.000000</td>\n",
       "      <td>91.885000</td>\n",
       "      <td>28.400000</td>\n",
       "      <td>0.000000</td>\n",
       "    </tr>\n",
       "    <tr>\n",
       "      <th>75%</th>\n",
       "      <td>54682.000000</td>\n",
       "      <td>61.000000</td>\n",
       "      <td>0.000000</td>\n",
       "      <td>0.000000</td>\n",
       "      <td>114.090000</td>\n",
       "      <td>32.800000</td>\n",
       "      <td>0.000000</td>\n",
       "    </tr>\n",
       "    <tr>\n",
       "      <th>max</th>\n",
       "      <td>72940.000000</td>\n",
       "      <td>82.000000</td>\n",
       "      <td>1.000000</td>\n",
       "      <td>1.000000</td>\n",
       "      <td>271.740000</td>\n",
       "      <td>97.600000</td>\n",
       "      <td>1.000000</td>\n",
       "    </tr>\n",
       "  </tbody>\n",
       "</table>\n",
       "</div>"
      ],
      "text/plain": [
       "                 id          age  hypertension  heart_disease  \\\n",
       "count   5110.000000  5110.000000   5110.000000    5110.000000   \n",
       "mean   36517.829354    43.226614      0.097456       0.054012   \n",
       "std    21161.721625    22.612647      0.296607       0.226063   \n",
       "min       67.000000     0.080000      0.000000       0.000000   \n",
       "25%    17741.250000    25.000000      0.000000       0.000000   \n",
       "50%    36932.000000    45.000000      0.000000       0.000000   \n",
       "75%    54682.000000    61.000000      0.000000       0.000000   \n",
       "max    72940.000000    82.000000      1.000000       1.000000   \n",
       "\n",
       "       avg_glucose_level          bmi       stroke  \n",
       "count        5110.000000  5110.000000  5110.000000  \n",
       "mean          106.147677    28.887209     0.048728  \n",
       "std            45.283560     7.698075     0.215320  \n",
       "min            55.120000    10.300000     0.000000  \n",
       "25%            77.245000    23.800000     0.000000  \n",
       "50%            91.885000    28.400000     0.000000  \n",
       "75%           114.090000    32.800000     0.000000  \n",
       "max           271.740000    97.600000     1.000000  "
      ]
     },
     "execution_count": 9,
     "metadata": {},
     "output_type": "execute_result"
    }
   ],
   "source": [
    "data.describe()"
   ]
  },
  {
   "cell_type": "markdown",
   "id": "designed-mount",
   "metadata": {
    "papermill": {
     "duration": 0.07224,
     "end_time": "2021-05-12T06:52:30.639906",
     "exception": false,
     "start_time": "2021-05-12T06:52:30.567666",
     "status": "completed"
    },
    "tags": []
   },
   "source": [
    "So from above statistical description of the dataset we can see that mean age of people is around 43 years and mean bmi is more than normal"
   ]
  },
  {
   "cell_type": "markdown",
   "id": "japanese-hours",
   "metadata": {
    "papermill": {
     "duration": 0.071322,
     "end_time": "2021-05-12T06:52:30.783383",
     "exception": false,
     "start_time": "2021-05-12T06:52:30.712061",
     "status": "completed"
    },
    "tags": []
   },
   "source": [
    "WHILE PLOTTING WE NEED TO KEEP IN MIND THAT AGAINST WHICH TYPE OF VARIABLES WE ARE PLOTTING THEN ONLY WE CAN DRAW INSIGHT FROM IT"
   ]
  },
  {
   "cell_type": "markdown",
   "id": "distinguished-archives",
   "metadata": {
    "papermill": {
     "duration": 0.071846,
     "end_time": "2021-05-12T06:52:30.927933",
     "exception": false,
     "start_time": "2021-05-12T06:52:30.856087",
     "status": "completed"
    },
    "tags": []
   },
   "source": [
    "**COUNTPLOT TO SEE THE DISTRIBUTION OF WORK_TYPE**"
   ]
  },
  {
   "cell_type": "code",
   "execution_count": 10,
   "id": "north-collective",
   "metadata": {
    "execution": {
     "iopub.execute_input": "2021-05-12T06:52:31.083760Z",
     "iopub.status.busy": "2021-05-12T06:52:31.083010Z",
     "iopub.status.idle": "2021-05-12T06:52:31.258142Z",
     "shell.execute_reply": "2021-05-12T06:52:31.257508Z"
    },
    "papermill": {
     "duration": 0.258503,
     "end_time": "2021-05-12T06:52:31.258308",
     "exception": false,
     "start_time": "2021-05-12T06:52:30.999805",
     "status": "completed"
    },
    "tags": []
   },
   "outputs": [
    {
     "data": {
      "text/plain": [
       "<AxesSubplot:xlabel='work_type', ylabel='count'>"
      ]
     },
     "execution_count": 10,
     "metadata": {},
     "output_type": "execute_result"
    },
    {
     "data": {
      "image/png": "[encoded data removed]",
      "text/plain": [
       "<Figure size 432x288 with 1 Axes>"
      ]
     },
     "metadata": {
      "needs_background": "light"
     },
     "output_type": "display_data"
    }
   ],
   "source": [
    "sns.countplot(data['work_type'])"
   ]
  },
  {
   "cell_type": "markdown",
   "id": "designing-maple",
   "metadata": {
    "papermill": {
     "duration": 0.073043,
     "end_time": "2021-05-12T06:52:31.404931",
     "exception": false,
     "start_time": "2021-05-12T06:52:31.331888",
     "status": "completed"
    },
    "tags": []
   },
   "source": [
    "THERE ARE LARGE NUMBER OF PEOPLE WHO WORK ON PRIVATE SECTOR "
   ]
  },
  {
   "cell_type": "code",
   "execution_count": 11,
   "id": "injured-criterion",
   "metadata": {
    "execution": {
     "iopub.execute_input": "2021-05-12T06:52:31.563699Z",
     "iopub.status.busy": "2021-05-12T06:52:31.562685Z",
     "iopub.status.idle": "2021-05-12T06:52:31.677691Z",
     "shell.execute_reply": "2021-05-12T06:52:31.677014Z"
    },
    "papermill": {
     "duration": 0.198882,
     "end_time": "2021-05-12T06:52:31.677831",
     "exception": false,
     "start_time": "2021-05-12T06:52:31.478949",
     "status": "completed"
    },
    "tags": []
   },
   "outputs": [
    {
     "data": {
      "text/plain": [
       "<AxesSubplot:xlabel='Residence_type', ylabel='count'>"
      ]
     },
     "execution_count": 11,
     "metadata": {},
     "output_type": "execute_result"
    },
    {
     "data": {
      "image/png": "[encoded data removed]",
      "text/plain": [
       "<Figure size 432x288 with 1 Axes>"
      ]
     },
     "metadata": {
      "needs_background": "light"
     },
     "output_type": "display_data"
    }
   ],
   "source": [
    "sns.countplot(data['Residence_type'])"
   ]
  },
  {
   "cell_type": "markdown",
   "id": "eleven-object",
   "metadata": {
    "papermill": {
     "duration": 0.073903,
     "end_time": "2021-05-12T06:52:31.826703",
     "exception": false,
     "start_time": "2021-05-12T06:52:31.752800",
     "status": "completed"
    },
    "tags": []
   },
   "source": [
    "THERE ARE ALMOST SAME NUMBER OF PEOPLE LIVING IN BOTH URBAN AND RURAL AREAS"
   ]
  },
  {
   "cell_type": "code",
   "execution_count": 12,
   "id": "engaged-borough",
   "metadata": {
    "execution": {
     "iopub.execute_input": "2021-05-12T06:52:31.989629Z",
     "iopub.status.busy": "2021-05-12T06:52:31.988567Z",
     "iopub.status.idle": "2021-05-12T06:52:32.128460Z",
     "shell.execute_reply": "2021-05-12T06:52:32.127862Z"
    },
    "papermill": {
     "duration": 0.226569,
     "end_time": "2021-05-12T06:52:32.128607",
     "exception": false,
     "start_time": "2021-05-12T06:52:31.902038",
     "status": "completed"
    },
    "tags": []
   },
   "outputs": [
    {
     "data": {
      "text/plain": [
       "<AxesSubplot:xlabel='smoking_status', ylabel='count'>"
      ]
     },
     "execution_count": 12,
     "metadata": {},
     "output_type": "execute_result"
    },
    {
     "data": {
      "image/png": "[encoded data removed]",
      "text/plain": [
       "<Figure size 432x288 with 1 Axes>"
      ]
     },
     "metadata": {
      "needs_background": "light"
     },
     "output_type": "display_data"
    }
   ],
   "source": [
    "sns.countplot(data['smoking_status'])"
   ]
  },
  {
   "cell_type": "markdown",
   "id": "judicial-briefs",
   "metadata": {
    "papermill": {
     "duration": 0.077717,
     "end_time": "2021-05-12T06:52:32.282036",
     "exception": false,
     "start_time": "2021-05-12T06:52:32.204319",
     "status": "completed"
    },
    "tags": []
   },
   "source": [
    "GOOD TO SEE THAT MOST NUMBER OF PEOPLE NEVER SMOKED AS \"SMOKING KILLS\""
   ]
  },
  {
   "cell_type": "code",
   "execution_count": 13,
   "id": "neither-consent",
   "metadata": {
    "execution": {
     "iopub.execute_input": "2021-05-12T06:52:32.438487Z",
     "iopub.status.busy": "2021-05-12T06:52:32.437816Z",
     "iopub.status.idle": "2021-05-12T06:52:32.550376Z",
     "shell.execute_reply": "2021-05-12T06:52:32.549785Z"
    },
    "papermill": {
     "duration": 0.192939,
     "end_time": "2021-05-12T06:52:32.550543",
     "exception": false,
     "start_time": "2021-05-12T06:52:32.357604",
     "status": "completed"
    },
    "tags": []
   },
   "outputs": [
    {
     "data": {
      "text/plain": [
       "<AxesSubplot:xlabel='stroke', ylabel='count'>"
      ]
     },
     "execution_count": 13,
     "metadata": {},
     "output_type": "execute_result"
    },
    {
     "data": {
      "image/png": "[encoded data removed]",
      "text/plain": [
       "<Figure size 432x288 with 1 Axes>"
      ]
     },
     "metadata": {
      "needs_background": "light"
     },
     "output_type": "display_data"
    }
   ],
   "source": [
    "sns.countplot(data['stroke'])"
   ]
  },
  {
   "cell_type": "markdown",
   "id": "czech-seminar",
   "metadata": {
    "papermill": {
     "duration": 0.079169,
     "end_time": "2021-05-12T06:52:32.708341",
     "exception": false,
     "start_time": "2021-05-12T06:52:32.629172",
     "status": "completed"
    },
    "tags": []
   },
   "source": [
    "THE ABOVE PLOT SHOWS THAT THERE IS **HIGH IMBALANCE** IN THE BOTH THE TARGET CLASSES AN WE NEED TO RESOLVE THIS ISSUE BEFORE APPLYING ANY ALGORITHM"
   ]
  },
  {
   "cell_type": "code",
   "execution_count": 14,
   "id": "incoming-atlas",
   "metadata": {
    "execution": {
     "iopub.execute_input": "2021-05-12T06:52:32.874596Z",
     "iopub.status.busy": "2021-05-12T06:52:32.873856Z",
     "iopub.status.idle": "2021-05-12T06:52:32.989970Z",
     "shell.execute_reply": "2021-05-12T06:52:32.990471Z"
    },
    "papermill": {
     "duration": 0.205131,
     "end_time": "2021-05-12T06:52:32.990654",
     "exception": false,
     "start_time": "2021-05-12T06:52:32.785523",
     "status": "completed"
    },
    "tags": []
   },
   "outputs": [
    {
     "data": {
      "text/plain": [
       "<AxesSubplot:xlabel='ever_married', ylabel='count'>"
      ]
     },
     "execution_count": 14,
     "metadata": {},
     "output_type": "execute_result"
    },
    {
     "data": {
      "image/png": "[encoded data removed]",
      "text/plain": [
       "<Figure size 432x288 with 1 Axes>"
      ]
     },
     "metadata": {
      "needs_background": "light"
     },
     "output_type": "display_data"
    }
   ],
   "source": [
    "sns.countplot(data['ever_married'])"
   ]
  },
  {
   "cell_type": "code",
   "execution_count": 15,
   "id": "handled-central",
   "metadata": {
    "execution": {
     "iopub.execute_input": "2021-05-12T06:52:33.148792Z",
     "iopub.status.busy": "2021-05-12T06:52:33.148117Z",
     "iopub.status.idle": "2021-05-12T06:52:33.155208Z",
     "shell.execute_reply": "2021-05-12T06:52:33.155898Z"
    },
    "papermill": {
     "duration": 0.087841,
     "end_time": "2021-05-12T06:52:33.156129",
     "exception": false,
     "start_time": "2021-05-12T06:52:33.068288",
     "status": "completed"
    },
    "tags": []
   },
   "outputs": [
    {
     "name": "stdout",
     "output_type": "stream",
     "text": [
      "55.12\n",
      "271.74\n"
     ]
    }
   ],
   "source": [
    "min_avg_glucose_level = min(data.avg_glucose_level)\n",
    "max_avg_glucose_level = max(data.avg_glucose_level)\n",
    "print(min_avg_glucose_level)\n",
    "print(max_avg_glucose_level)"
   ]
  },
  {
   "cell_type": "markdown",
   "id": "colonial-projection",
   "metadata": {
    "papermill": {
     "duration": 0.07753,
     "end_time": "2021-05-12T06:52:33.312558",
     "exception": false,
     "start_time": "2021-05-12T06:52:33.235028",
     "status": "completed"
    },
    "tags": []
   },
   "source": [
    "THE ABOVE MINIMUM AND MAXIMUM VALUES OF AVERAGE GLUCOSE LEVEL SHOWS THAT THE COLUMN NEEDS TO BE STANDARDIZED AS THERE IS VERY HIGH DIFFERENCE BETWEEN THEM"
   ]
  },
  {
   "cell_type": "code",
   "execution_count": 16,
   "id": "respective-franklin",
   "metadata": {
    "execution": {
     "iopub.execute_input": "2021-05-12T06:52:33.499311Z",
     "iopub.status.busy": "2021-05-12T06:52:33.498637Z",
     "iopub.status.idle": "2021-05-12T06:52:33.725917Z",
     "shell.execute_reply": "2021-05-12T06:52:33.726442Z"
    },
    "papermill": {
     "duration": 0.335202,
     "end_time": "2021-05-12T06:52:33.726645",
     "exception": false,
     "start_time": "2021-05-12T06:52:33.391443",
     "status": "completed"
    },
    "tags": []
   },
   "outputs": [
    {
     "data": {
      "text/plain": [
       "<AxesSubplot:xlabel='age', ylabel='Density'>"
      ]
     },
     "execution_count": 16,
     "metadata": {},
     "output_type": "execute_result"
    },
    {
     "data": {
      "image/png": "[encoded data removed]",
      "text/plain": [
       "<Figure size 432x288 with 1 Axes>"
      ]
     },
     "metadata": {
      "needs_background": "light"
     },
     "output_type": "display_data"
    }
   ],
   "source": [
    "sns.distplot(data['age'])"
   ]
  },
  {
   "cell_type": "code",
   "execution_count": 17,
   "id": "perfect-jason",
   "metadata": {
    "execution": {
     "iopub.execute_input": "2021-05-12T06:52:33.912409Z",
     "iopub.status.busy": "2021-05-12T06:52:33.910087Z",
     "iopub.status.idle": "2021-05-12T06:52:34.180308Z",
     "shell.execute_reply": "2021-05-12T06:52:34.179747Z"
    },
    "papermill": {
     "duration": 0.373002,
     "end_time": "2021-05-12T06:52:34.180463",
     "exception": false,
     "start_time": "2021-05-12T06:52:33.807461",
     "status": "completed"
    },
    "tags": []
   },
   "outputs": [
    {
     "data": {
      "text/plain": [
       "<AxesSubplot:xlabel='avg_glucose_level', ylabel='Density'>"
      ]
     },
     "execution_count": 17,
     "metadata": {},
     "output_type": "execute_result"
    },
    {
     "data": {
      "image/png": "[encoded data removed]",
      "text/plain": [
       "<Figure size 432x288 with 1 Axes>"
      ]
     },
     "metadata": {
      "needs_background": "light"
     },
     "output_type": "display_data"
    }
   ],
   "source": [
    "sns.distplot(data['avg_glucose_level'])"
   ]
  },
  {
   "cell_type": "markdown",
   "id": "educated-reaction",
   "metadata": {
    "papermill": {
     "duration": 0.096411,
     "end_time": "2021-05-12T06:52:34.377026",
     "exception": false,
     "start_time": "2021-05-12T06:52:34.280615",
     "status": "completed"
    },
    "tags": []
   },
   "source": [
    "**MAPPING OF CATEGORICAL VARIABLES**"
   ]
  },
  {
   "cell_type": "code",
   "execution_count": 18,
   "id": "distinct-composition",
   "metadata": {
    "execution": {
     "iopub.execute_input": "2021-05-12T06:52:34.567940Z",
     "iopub.status.busy": "2021-05-12T06:52:34.566914Z",
     "iopub.status.idle": "2021-05-12T06:52:34.569795Z",
     "shell.execute_reply": "2021-05-12T06:52:34.569018Z"
    },
    "papermill": {
     "duration": 0.106169,
     "end_time": "2021-05-12T06:52:34.570011",
     "exception": false,
     "start_time": "2021-05-12T06:52:34.463842",
     "status": "completed"
    },
    "tags": []
   },
   "outputs": [],
   "source": [
    "data['work_type'] = data['work_type'].map({'Private':0, 'Self-employed': 1, 'Govt_job':2, 'children':3, 'Never_worked':4})"
   ]
  },
  {
   "cell_type": "code",
   "execution_count": 19,
   "id": "complicated-heaven",
   "metadata": {
    "execution": {
     "iopub.execute_input": "2021-05-12T06:52:34.754175Z",
     "iopub.status.busy": "2021-05-12T06:52:34.753138Z",
     "iopub.status.idle": "2021-05-12T06:52:34.755806Z",
     "shell.execute_reply": "2021-05-12T06:52:34.756350Z"
    },
    "papermill": {
     "duration": 0.101473,
     "end_time": "2021-05-12T06:52:34.756528",
     "exception": false,
     "start_time": "2021-05-12T06:52:34.655055",
     "status": "completed"
    },
    "tags": []
   },
   "outputs": [],
   "source": [
    "data['gender'] = data['gender'].map({'Male':0, 'Female':1})\n",
    "data['Residence_type'] = data['Residence_type'].map({'Urban':0, 'Rural':1})\n",
    "data['smoking_status'] = data['smoking_status'].map({'formerly smoked':0, 'never smoked':1, 'smokes':2, 'Unknown':3})\n",
    "data['ever_married'] = data['ever_married'].map({'Yes':0, 'No':1})"
   ]
  },
  {
   "cell_type": "markdown",
   "id": "frank-mistake",
   "metadata": {
    "papermill": {
     "duration": 0.08166,
     "end_time": "2021-05-12T06:52:34.921691",
     "exception": false,
     "start_time": "2021-05-12T06:52:34.840031",
     "status": "completed"
    },
    "tags": []
   },
   "source": [
    "DATASET AFTER MAPPING OF CATEGORICAL VARIABLES"
   ]
  },
  {
   "cell_type": "code",
   "execution_count": 20,
   "id": "serious-james",
   "metadata": {
    "execution": {
     "iopub.execute_input": "2021-05-12T06:52:35.093378Z",
     "iopub.status.busy": "2021-05-12T06:52:35.092410Z",
     "iopub.status.idle": "2021-05-12T06:52:35.119209Z",
     "shell.execute_reply": "2021-05-12T06:52:35.118688Z"
    },
    "papermill": {
     "duration": 0.112339,
     "end_time": "2021-05-12T06:52:35.119363",
     "exception": false,
     "start_time": "2021-05-12T06:52:35.007024",
     "status": "completed"
    },
    "tags": []
   },
   "outputs": [
    {
     "data": {
      "text/html": [
       "<div>\n",
       "<style scoped>\n",
       "    .dataframe tbody tr th:only-of-type {\n",
       "        vertical-align: middle;\n",
       "    }\n",
       "\n",
       "    .dataframe tbody tr th {\n",
       "        vertical-align: top;\n",
       "    }\n",
       "\n",
       "    .dataframe thead th {\n",
       "        text-align: right;\n",
       "    }\n",
       "</style>\n",
       "<table border=\"1\" class=\"dataframe\">\n",
       "  <thead>\n",
       "    <tr style=\"text-align: right;\">\n",
       "      <th></th>\n",
       "      <th>id</th>\n",
       "      <th>gender</th>\n",
       "      <th>age</th>\n",
       "      <th>hypertension</th>\n",
       "      <th>heart_disease</th>\n",
       "      <th>ever_married</th>\n",
       "      <th>work_type</th>\n",
       "      <th>Residence_type</th>\n",
       "      <th>avg_glucose_level</th>\n",
       "      <th>bmi</th>\n",
       "      <th>smoking_status</th>\n",
       "      <th>stroke</th>\n",
       "    </tr>\n",
       "  </thead>\n",
       "  <tbody>\n",
       "    <tr>\n",
       "      <th>0</th>\n",
       "      <td>9046</td>\n",
       "      <td>0.0</td>\n",
       "      <td>67.0</td>\n",
       "      <td>0</td>\n",
       "      <td>1</td>\n",
       "      <td>0</td>\n",
       "      <td>0</td>\n",
       "      <td>0</td>\n",
       "      <td>228.69</td>\n",
       "      <td>36.60</td>\n",
       "      <td>0</td>\n",
       "      <td>1</td>\n",
       "    </tr>\n",
       "    <tr>\n",
       "      <th>1</th>\n",
       "      <td>51676</td>\n",
       "      <td>1.0</td>\n",
       "      <td>61.0</td>\n",
       "      <td>0</td>\n",
       "      <td>0</td>\n",
       "      <td>0</td>\n",
       "      <td>1</td>\n",
       "      <td>1</td>\n",
       "      <td>202.21</td>\n",
       "      <td>28.74</td>\n",
       "      <td>1</td>\n",
       "      <td>1</td>\n",
       "    </tr>\n",
       "    <tr>\n",
       "      <th>2</th>\n",
       "      <td>31112</td>\n",
       "      <td>0.0</td>\n",
       "      <td>80.0</td>\n",
       "      <td>0</td>\n",
       "      <td>1</td>\n",
       "      <td>0</td>\n",
       "      <td>0</td>\n",
       "      <td>1</td>\n",
       "      <td>105.92</td>\n",
       "      <td>32.50</td>\n",
       "      <td>1</td>\n",
       "      <td>1</td>\n",
       "    </tr>\n",
       "    <tr>\n",
       "      <th>3</th>\n",
       "      <td>60182</td>\n",
       "      <td>1.0</td>\n",
       "      <td>49.0</td>\n",
       "      <td>0</td>\n",
       "      <td>0</td>\n",
       "      <td>0</td>\n",
       "      <td>0</td>\n",
       "      <td>0</td>\n",
       "      <td>171.23</td>\n",
       "      <td>34.40</td>\n",
       "      <td>2</td>\n",
       "      <td>1</td>\n",
       "    </tr>\n",
       "    <tr>\n",
       "      <th>4</th>\n",
       "      <td>1665</td>\n",
       "      <td>1.0</td>\n",
       "      <td>79.0</td>\n",
       "      <td>1</td>\n",
       "      <td>0</td>\n",
       "      <td>0</td>\n",
       "      <td>1</td>\n",
       "      <td>1</td>\n",
       "      <td>174.12</td>\n",
       "      <td>24.00</td>\n",
       "      <td>1</td>\n",
       "      <td>1</td>\n",
       "    </tr>\n",
       "    <tr>\n",
       "      <th>...</th>\n",
       "      <td>...</td>\n",
       "      <td>...</td>\n",
       "      <td>...</td>\n",
       "      <td>...</td>\n",
       "      <td>...</td>\n",
       "      <td>...</td>\n",
       "      <td>...</td>\n",
       "      <td>...</td>\n",
       "      <td>...</td>\n",
       "      <td>...</td>\n",
       "      <td>...</td>\n",
       "      <td>...</td>\n",
       "    </tr>\n",
       "    <tr>\n",
       "      <th>5105</th>\n",
       "      <td>18234</td>\n",
       "      <td>1.0</td>\n",
       "      <td>80.0</td>\n",
       "      <td>1</td>\n",
       "      <td>0</td>\n",
       "      <td>0</td>\n",
       "      <td>0</td>\n",
       "      <td>0</td>\n",
       "      <td>83.75</td>\n",
       "      <td>28.74</td>\n",
       "      <td>1</td>\n",
       "      <td>0</td>\n",
       "    </tr>\n",
       "    <tr>\n",
       "      <th>5106</th>\n",
       "      <td>44873</td>\n",
       "      <td>1.0</td>\n",
       "      <td>81.0</td>\n",
       "      <td>0</td>\n",
       "      <td>0</td>\n",
       "      <td>0</td>\n",
       "      <td>1</td>\n",
       "      <td>0</td>\n",
       "      <td>125.20</td>\n",
       "      <td>40.00</td>\n",
       "      <td>1</td>\n",
       "      <td>0</td>\n",
       "    </tr>\n",
       "    <tr>\n",
       "      <th>5107</th>\n",
       "      <td>19723</td>\n",
       "      <td>1.0</td>\n",
       "      <td>35.0</td>\n",
       "      <td>0</td>\n",
       "      <td>0</td>\n",
       "      <td>0</td>\n",
       "      <td>1</td>\n",
       "      <td>1</td>\n",
       "      <td>82.99</td>\n",
       "      <td>30.60</td>\n",
       "      <td>1</td>\n",
       "      <td>0</td>\n",
       "    </tr>\n",
       "    <tr>\n",
       "      <th>5108</th>\n",
       "      <td>37544</td>\n",
       "      <td>0.0</td>\n",
       "      <td>51.0</td>\n",
       "      <td>0</td>\n",
       "      <td>0</td>\n",
       "      <td>0</td>\n",
       "      <td>0</td>\n",
       "      <td>1</td>\n",
       "      <td>166.29</td>\n",
       "      <td>25.60</td>\n",
       "      <td>0</td>\n",
       "      <td>0</td>\n",
       "    </tr>\n",
       "    <tr>\n",
       "      <th>5109</th>\n",
       "      <td>44679</td>\n",
       "      <td>1.0</td>\n",
       "      <td>44.0</td>\n",
       "      <td>0</td>\n",
       "      <td>0</td>\n",
       "      <td>0</td>\n",
       "      <td>2</td>\n",
       "      <td>0</td>\n",
       "      <td>85.28</td>\n",
       "      <td>26.20</td>\n",
       "      <td>3</td>\n",
       "      <td>0</td>\n",
       "    </tr>\n",
       "  </tbody>\n",
       "</table>\n",
       "<p>5110 rows × 12 columns</p>\n",
       "</div>"
      ],
      "text/plain": [
       "         id  gender   age  hypertension  heart_disease  ever_married  \\\n",
       "0      9046     0.0  67.0             0              1             0   \n",
       "1     51676     1.0  61.0             0              0             0   \n",
       "2     31112     0.0  80.0             0              1             0   \n",
       "3     60182     1.0  49.0             0              0             0   \n",
       "4      1665     1.0  79.0             1              0             0   \n",
       "...     ...     ...   ...           ...            ...           ...   \n",
       "5105  18234     1.0  80.0             1              0             0   \n",
       "5106  44873     1.0  81.0             0              0             0   \n",
       "5107  19723     1.0  35.0             0              0             0   \n",
       "5108  37544     0.0  51.0             0              0             0   \n",
       "5109  44679     1.0  44.0             0              0             0   \n",
       "\n",
       "      work_type  Residence_type  avg_glucose_level    bmi  smoking_status  \\\n",
       "0             0               0             228.69  36.60               0   \n",
       "1             1               1             202.21  28.74               1   \n",
       "2             0               1             105.92  32.50               1   \n",
       "3             0               0             171.23  34.40               2   \n",
       "4             1               1             174.12  24.00               1   \n",
       "...         ...             ...                ...    ...             ...   \n",
       "5105          0               0              83.75  28.74               1   \n",
       "5106          1               0             125.20  40.00               1   \n",
       "5107          1               1              82.99  30.60               1   \n",
       "5108          0               1             166.29  25.60               0   \n",
       "5109          2               0              85.28  26.20               3   \n",
       "\n",
       "      stroke  \n",
       "0          1  \n",
       "1          1  \n",
       "2          1  \n",
       "3          1  \n",
       "4          1  \n",
       "...      ...  \n",
       "5105       0  \n",
       "5106       0  \n",
       "5107       0  \n",
       "5108       0  \n",
       "5109       0  \n",
       "\n",
       "[5110 rows x 12 columns]"
      ]
     },
     "execution_count": 20,
     "metadata": {},
     "output_type": "execute_result"
    }
   ],
   "source": [
    "data"
   ]
  },
  {
   "cell_type": "markdown",
   "id": "dutch-yemen",
   "metadata": {
    "papermill": {
     "duration": 0.081498,
     "end_time": "2021-05-12T06:52:35.283518",
     "exception": false,
     "start_time": "2021-05-12T06:52:35.202020",
     "status": "completed"
    },
    "tags": []
   },
   "source": [
    "**CORRELATION HEATMAP** TO CHECK FOR ANY CORRELATION BETWEEN VARIABLES"
   ]
  },
  {
   "cell_type": "code",
   "execution_count": 21,
   "id": "interim-chassis",
   "metadata": {
    "execution": {
     "iopub.execute_input": "2021-05-12T06:52:35.461001Z",
     "iopub.status.busy": "2021-05-12T06:52:35.460260Z",
     "iopub.status.idle": "2021-05-12T06:52:36.579447Z",
     "shell.execute_reply": "2021-05-12T06:52:36.579983Z"
    },
    "papermill": {
     "duration": 1.214739,
     "end_time": "2021-05-12T06:52:36.580171",
     "exception": false,
     "start_time": "2021-05-12T06:52:35.365432",
     "status": "completed"
    },
    "tags": []
   },
   "outputs": [
    {
     "data": {
      "text/plain": [
       "<AxesSubplot:>"
      ]
     },
     "execution_count": 21,
     "metadata": {},
     "output_type": "execute_result"
    },
    {
     "data": {
      "image/png": "[encoded data removed]",
      "text/plain": [
       "<Figure size 1152x720 with 2 Axes>"
      ]
     },
     "metadata": {
      "needs_background": "light"
     },
     "output_type": "display_data"
    }
   ],
   "source": [
    "plt.figure(figsize=(16,10))\n",
    "sns.heatmap(data.corr(method='pearson'), annot=True)"
   ]
  },
  {
   "cell_type": "markdown",
   "id": "likely-zealand",
   "metadata": {
    "papermill": {
     "duration": 0.084997,
     "end_time": "2021-05-12T06:52:36.752374",
     "exception": false,
     "start_time": "2021-05-12T06:52:36.667377",
     "status": "completed"
    },
    "tags": []
   },
   "source": [
    "FROM THE ABOVE FIGURE WE CAN SEE THAT-\n",
    "WORK_TYPE AND BMI - NEGATIVE CORRELATION\n",
    "STROKE AND AGE HAS A POSITIVE CORRELATION\n",
    "SIMILARLY MANY OTHER VARIABLES HAVE SUCH CORRELATION VALUES WE CANNOT REMOVE ANY VARIABLES. WE HAVE TO CONSIDER ALL THE VARIABLES FOR OUR MODEL"
   ]
  },
  {
   "cell_type": "code",
   "execution_count": 22,
   "id": "seven-offering",
   "metadata": {
    "execution": {
     "iopub.execute_input": "2021-05-12T06:52:36.955116Z",
     "iopub.status.busy": "2021-05-12T06:52:36.932560Z",
     "iopub.status.idle": "2021-05-12T06:52:37.113035Z",
     "shell.execute_reply": "2021-05-12T06:52:37.113541Z"
    },
    "papermill": {
     "duration": 0.27359,
     "end_time": "2021-05-12T06:52:37.113714",
     "exception": false,
     "start_time": "2021-05-12T06:52:36.840124",
     "status": "completed"
    },
    "tags": []
   },
   "outputs": [
    {
     "data": {
      "text/plain": [
       "<AxesSubplot:xlabel='age', ylabel='avg_glucose_level'>"
      ]
     },
     "execution_count": 22,
     "metadata": {},
     "output_type": "execute_result"
    },
    {
     "data": {
      "image/png": "[encoded data removed]",
      "text/plain": [
       "<Figure size 432x288 with 1 Axes>"
      ]
     },
     "metadata": {
      "needs_background": "light"
     },
     "output_type": "display_data"
    }
   ],
   "source": [
    "sns.scatterplot(x=data['age'], y=data['avg_glucose_level'])\n"
   ]
  },
  {
   "cell_type": "markdown",
   "id": "municipal-contract",
   "metadata": {
    "papermill": {
     "duration": 0.089297,
     "end_time": "2021-05-12T06:52:37.292268",
     "exception": false,
     "start_time": "2021-05-12T06:52:37.202971",
     "status": "completed"
    },
    "tags": []
   },
   "source": [
    "FROM THE ABOVE SCATTER PLOT IT IS QUITE VISIBLE THAT AS THE AGE INCREASE IT LEADS TO INCREASE IN GLUCOSE LEVEL"
   ]
  },
  {
   "cell_type": "code",
   "execution_count": 23,
   "id": "noticed-clarity",
   "metadata": {
    "execution": {
     "iopub.execute_input": "2021-05-12T06:52:37.478331Z",
     "iopub.status.busy": "2021-05-12T06:52:37.477657Z",
     "iopub.status.idle": "2021-05-12T06:52:38.146738Z",
     "shell.execute_reply": "2021-05-12T06:52:38.146129Z"
    },
    "papermill": {
     "duration": 0.766255,
     "end_time": "2021-05-12T06:52:38.146894",
     "exception": false,
     "start_time": "2021-05-12T06:52:37.380639",
     "status": "completed"
    },
    "tags": []
   },
   "outputs": [
    {
     "data": {
      "text/plain": [
       "<seaborn.axisgrid.FacetGrid at 0x7f56c96f0c90>"
      ]
     },
     "execution_count": 23,
     "metadata": {},
     "output_type": "execute_result"
    },
    {
     "data": {
      "image/png": "[encoded data removed]",
      "text/plain": [
       "<Figure size 419.125x360 with 1 Axes>"
      ]
     },
     "metadata": {
      "needs_background": "light"
     },
     "output_type": "display_data"
    }
   ],
   "source": [
    "sns.catplot(x='heart_disease',y='age', hue=\"work_type\", kind=\"bar\", data=data)"
   ]
  },
  {
   "cell_type": "markdown",
   "id": "endangered-protocol",
   "metadata": {
    "papermill": {
     "duration": 0.089118,
     "end_time": "2021-05-12T06:52:38.325369",
     "exception": false,
     "start_time": "2021-05-12T06:52:38.236251",
     "status": "completed"
    },
    "tags": []
   },
   "source": [
    "PEOPLE WHO ARE SELF EMPLOYED ARE THE ONES WHO HAVE HEART DISEASE AND OBVIOUSLY LEAST NUMBERS ARE OF CHILDREN"
   ]
  },
  {
   "cell_type": "code",
   "execution_count": 24,
   "id": "mexican-chassis",
   "metadata": {
    "execution": {
     "iopub.execute_input": "2021-05-12T06:52:38.546714Z",
     "iopub.status.busy": "2021-05-12T06:52:38.536829Z",
     "iopub.status.idle": "2021-05-12T06:52:39.207483Z",
     "shell.execute_reply": "2021-05-12T06:52:39.206898Z"
    },
    "papermill": {
     "duration": 0.791909,
     "end_time": "2021-05-12T06:52:39.207628",
     "exception": false,
     "start_time": "2021-05-12T06:52:38.415719",
     "status": "completed"
    },
    "tags": []
   },
   "outputs": [
    {
     "data": {
      "text/plain": [
       "<seaborn.axisgrid.FacetGrid at 0x7f56c9ab8c10>"
      ]
     },
     "execution_count": 24,
     "metadata": {},
     "output_type": "execute_result"
    },
    {
     "data": {
      "image/png": "[encoded data removed]",
      "text/plain": [
       "<Figure size 419.125x360 with 1 Axes>"
      ]
     },
     "metadata": {
      "needs_background": "light"
     },
     "output_type": "display_data"
    }
   ],
   "source": [
    "sns.catplot(x='hypertension',y='age', hue=\"work_type\", kind=\"bar\", data=data)"
   ]
  },
  {
   "cell_type": "code",
   "execution_count": 25,
   "id": "micro-finding",
   "metadata": {
    "execution": {
     "iopub.execute_input": "2021-05-12T06:52:39.396389Z",
     "iopub.status.busy": "2021-05-12T06:52:39.395689Z",
     "iopub.status.idle": "2021-05-12T06:52:40.451579Z",
     "shell.execute_reply": "2021-05-12T06:52:40.451026Z"
    },
    "papermill": {
     "duration": 1.15187,
     "end_time": "2021-05-12T06:52:40.451726",
     "exception": false,
     "start_time": "2021-05-12T06:52:39.299856",
     "status": "completed"
    },
    "tags": []
   },
   "outputs": [
    {
     "data": {
      "text/plain": [
       "<seaborn.axisgrid.FacetGrid at 0x7f56c99e7c90>"
      ]
     },
     "execution_count": 25,
     "metadata": {},
     "output_type": "execute_result"
    },
    {
     "data": {
      "image/png": "[encoded data removed]",
      "text/plain": [
       "<Figure size 419.125x360 with 1 Axes>"
      ]
     },
     "metadata": {
      "needs_background": "light"
     },
     "output_type": "display_data"
    }
   ],
   "source": [
    "sns.catplot(x=\"smoking_status\", y=\"stroke\", hue=\"work_type\", kind=\"bar\", data=data)"
   ]
  },
  {
   "cell_type": "markdown",
   "id": "regional-necessity",
   "metadata": {
    "papermill": {
     "duration": 0.14234,
     "end_time": "2021-05-12T06:52:40.686562",
     "exception": false,
     "start_time": "2021-05-12T06:52:40.544222",
     "status": "completed"
    },
    "tags": []
   },
   "source": [
    "AGAIN SELF-EMPLOYED PEOPLE HAVE HIGHER RISK OF STROKE. THIS SHOWS THAT THESE PEOPLE ARE MORE VULNERABLE TO DIFFERENT DISEASES AS THEY CARRY LOT OF TENSION OF EARNINGS AND FAMILY INCOME"
   ]
  },
  {
   "cell_type": "code",
   "execution_count": 26,
   "id": "intelligent-custody",
   "metadata": {
    "execution": {
     "iopub.execute_input": "2021-05-12T06:52:40.875523Z",
     "iopub.status.busy": "2021-05-12T06:52:40.874462Z",
     "iopub.status.idle": "2021-05-12T06:52:41.537172Z",
     "shell.execute_reply": "2021-05-12T06:52:41.537758Z"
    },
    "papermill": {
     "duration": 0.758875,
     "end_time": "2021-05-12T06:52:41.537939",
     "exception": false,
     "start_time": "2021-05-12T06:52:40.779064",
     "status": "completed"
    },
    "tags": []
   },
   "outputs": [
    {
     "data": {
      "text/plain": [
       "<seaborn.axisgrid.FacetGrid at 0x7f56c98efdd0>"
      ]
     },
     "execution_count": 26,
     "metadata": {},
     "output_type": "execute_result"
    },
    {
     "data": {
      "image/png": "[encoded data removed]",
      "text/plain": [
       "<Figure size 419.125x360 with 1 Axes>"
      ]
     },
     "metadata": {
      "needs_background": "light"
     },
     "output_type": "display_data"
    }
   ],
   "source": [
    "sns.catplot(x=\"hypertension\", y=\"stroke\", hue=\"work_type\", kind=\"bar\", data=data)"
   ]
  },
  {
   "cell_type": "code",
   "execution_count": 27,
   "id": "affecting-naples",
   "metadata": {
    "execution": {
     "iopub.execute_input": "2021-05-12T06:52:41.735823Z",
     "iopub.status.busy": "2021-05-12T06:52:41.734847Z",
     "iopub.status.idle": "2021-05-12T06:52:42.466987Z",
     "shell.execute_reply": "2021-05-12T06:52:42.466430Z"
    },
    "papermill": {
     "duration": 0.835404,
     "end_time": "2021-05-12T06:52:42.467126",
     "exception": false,
     "start_time": "2021-05-12T06:52:41.631722",
     "status": "completed"
    },
    "tags": []
   },
   "outputs": [
    {
     "data": {
      "text/plain": [
       "<seaborn.axisgrid.FacetGrid at 0x7f56c8651e50>"
      ]
     },
     "execution_count": 27,
     "metadata": {},
     "output_type": "execute_result"
    },
    {
     "data": {
      "image/png": "[encoded data removed]",
      "text/plain": [
       "<Figure size 419.125x360 with 1 Axes>"
      ]
     },
     "metadata": {
      "needs_background": "light"
     },
     "output_type": "display_data"
    }
   ],
   "source": [
    "sns.catplot(x=\"Residence_type\", y=\"stroke\", hue=\"work_type\", kind=\"bar\", data=data)"
   ]
  },
  {
   "cell_type": "markdown",
   "id": "optional-nursing",
   "metadata": {
    "papermill": {
     "duration": 0.09505,
     "end_time": "2021-05-12T06:52:42.659355",
     "exception": false,
     "start_time": "2021-05-12T06:52:42.564305",
     "status": "completed"
    },
    "tags": []
   },
   "source": [
    "TYPE OF RESIDENCE HARDLY MAKES ANY DIFFERENCE TO DISEASE"
   ]
  },
  {
   "cell_type": "code",
   "execution_count": 28,
   "id": "solar-magnitude",
   "metadata": {
    "execution": {
     "iopub.execute_input": "2021-05-12T06:52:42.855670Z",
     "iopub.status.busy": "2021-05-12T06:52:42.854452Z",
     "iopub.status.idle": "2021-05-12T06:52:43.106385Z",
     "shell.execute_reply": "2021-05-12T06:52:43.105802Z"
    },
    "papermill": {
     "duration": 0.353021,
     "end_time": "2021-05-12T06:52:43.106538",
     "exception": false,
     "start_time": "2021-05-12T06:52:42.753517",
     "status": "completed"
    },
    "tags": []
   },
   "outputs": [
    {
     "data": {
      "text/plain": [
       "<seaborn.axisgrid.FacetGrid at 0x7f56c9bbaad0>"
      ]
     },
     "execution_count": 28,
     "metadata": {},
     "output_type": "execute_result"
    },
    {
     "data": {
      "image/png": "[encoded data removed]",
      "text/plain": [
       "<Figure size 360x360 with 1 Axes>"
      ]
     },
     "metadata": {
      "needs_background": "light"
     },
     "output_type": "display_data"
    }
   ],
   "source": [
    "sns.catplot(x='stroke', y=\"avg_glucose_level\", kind=\"box\", data=data)"
   ]
  },
  {
   "cell_type": "markdown",
   "id": "natural-tourism",
   "metadata": {
    "papermill": {
     "duration": 0.094665,
     "end_time": "2021-05-12T06:52:43.296390",
     "exception": false,
     "start_time": "2021-05-12T06:52:43.201725",
     "status": "completed"
    },
    "tags": []
   },
   "source": [
    "PEOPLE HAVING HIGHER GLUCOSE LEVEL ARE AT HIGH RISK OF STROKE"
   ]
  },
  {
   "cell_type": "code",
   "execution_count": 29,
   "id": "disciplinary-portrait",
   "metadata": {
    "execution": {
     "iopub.execute_input": "2021-05-12T06:52:43.491712Z",
     "iopub.status.busy": "2021-05-12T06:52:43.491024Z",
     "iopub.status.idle": "2021-05-12T06:52:43.838164Z",
     "shell.execute_reply": "2021-05-12T06:52:43.837484Z"
    },
    "papermill": {
     "duration": 0.447017,
     "end_time": "2021-05-12T06:52:43.838332",
     "exception": false,
     "start_time": "2021-05-12T06:52:43.391315",
     "status": "completed"
    },
    "tags": []
   },
   "outputs": [
    {
     "data": {
      "text/plain": [
       "<seaborn.axisgrid.FacetGrid at 0x7f56c8647310>"
      ]
     },
     "execution_count": 29,
     "metadata": {},
     "output_type": "execute_result"
    },
    {
     "data": {
      "image/png": "[encoded data removed]",
      "text/plain": [
       "<Figure size 411.875x360 with 1 Axes>"
      ]
     },
     "metadata": {
      "needs_background": "light"
     },
     "output_type": "display_data"
    }
   ],
   "source": [
    "sns.catplot(x='stroke', y=\"age\", hue = 'gender', kind=\"box\", data=data)"
   ]
  },
  {
   "cell_type": "markdown",
   "id": "hungarian-initial",
   "metadata": {
    "papermill": {
     "duration": 0.097712,
     "end_time": "2021-05-12T06:52:44.032743",
     "exception": false,
     "start_time": "2021-05-12T06:52:43.935031",
     "status": "completed"
    },
    "tags": []
   },
   "source": [
    "HIGH AGE FEMALES ARE AT THE RISK TO STROKE"
   ]
  },
  {
   "cell_type": "code",
   "execution_count": 30,
   "id": "balanced-recycling",
   "metadata": {
    "execution": {
     "iopub.execute_input": "2021-05-12T06:52:44.231632Z",
     "iopub.status.busy": "2021-05-12T06:52:44.230918Z",
     "iopub.status.idle": "2021-05-12T06:52:44.694611Z",
     "shell.execute_reply": "2021-05-12T06:52:44.693910Z"
    },
    "papermill": {
     "duration": 0.565433,
     "end_time": "2021-05-12T06:52:44.694767",
     "exception": false,
     "start_time": "2021-05-12T06:52:44.129334",
     "status": "completed"
    },
    "tags": []
   },
   "outputs": [
    {
     "data": {
      "text/plain": [
       "<seaborn.axisgrid.FacetGrid at 0x7f56c84a1490>"
      ]
     },
     "execution_count": 30,
     "metadata": {},
     "output_type": "execute_result"
    },
    {
     "data": {
      "image/png": "[encoded data removed]",
      "text/plain": [
       "<Figure size 419.125x360 with 1 Axes>"
      ]
     },
     "metadata": {
      "needs_background": "light"
     },
     "output_type": "display_data"
    }
   ],
   "source": [
    "sns.catplot(x='stroke', y=\"age\", hue = 'work_type', kind=\"box\", data=data)"
   ]
  },
  {
   "cell_type": "markdown",
   "id": "confident-tiger",
   "metadata": {
    "papermill": {
     "duration": 0.097447,
     "end_time": "2021-05-12T06:52:44.889597",
     "exception": false,
     "start_time": "2021-05-12T06:52:44.792150",
     "status": "completed"
    },
    "tags": []
   },
   "source": []
  },
  {
   "cell_type": "markdown",
   "id": "committed-medicine",
   "metadata": {
    "papermill": {
     "duration": 0.098184,
     "end_time": "2021-05-12T06:52:45.084893",
     "exception": false,
     "start_time": "2021-05-12T06:52:44.986709",
     "status": "completed"
    },
    "tags": []
   },
   "source": [
    "**APPLY MACHINE LEARNING ALGORITHM FOR PREDICTION**"
   ]
  },
  {
   "cell_type": "markdown",
   "id": "soviet-hurricane",
   "metadata": {
    "papermill": {
     "duration": 0.097038,
     "end_time": "2021-05-12T06:52:45.279980",
     "exception": false,
     "start_time": "2021-05-12T06:52:45.182942",
     "status": "completed"
    },
    "tags": []
   },
   "source": [
    "DIVIDING THE DATASET INTO FEATURES AND LABELE"
   ]
  },
  {
   "cell_type": "code",
   "execution_count": 31,
   "id": "becoming-sheriff",
   "metadata": {
    "execution": {
     "iopub.execute_input": "2021-05-12T06:52:45.485062Z",
     "iopub.status.busy": "2021-05-12T06:52:45.484402Z",
     "iopub.status.idle": "2021-05-12T06:52:45.487931Z",
     "shell.execute_reply": "2021-05-12T06:52:45.487310Z"
    },
    "papermill": {
     "duration": 0.111047,
     "end_time": "2021-05-12T06:52:45.488075",
     "exception": false,
     "start_time": "2021-05-12T06:52:45.377028",
     "status": "completed"
    },
    "tags": []
   },
   "outputs": [],
   "source": [
    "features = ['id','age',\n",
    " 'hypertension',\n",
    " 'heart_disease',\n",
    " 'ever_married',\n",
    " 'Residence_type',\n",
    " 'avg_glucose_level',\n",
    " 'bmi',\n",
    " 'gender',\n",
    " 'work_type',\n",
    " 'smoking_status']\n",
    "\n",
    "label = ['stroke']\n",
    "\n",
    "X = data[features]\n",
    "y = data[label]"
   ]
  },
  {
   "cell_type": "markdown",
   "id": "developing-contract",
   "metadata": {
    "papermill": {
     "duration": 0.097636,
     "end_time": "2021-05-12T06:52:45.684056",
     "exception": false,
     "start_time": "2021-05-12T06:52:45.586420",
     "status": "completed"
    },
    "tags": []
   },
   "source": [
    "ONCE AGAIN CHECK FOR NULL VALUES IN THE DATASET"
   ]
  },
  {
   "cell_type": "code",
   "execution_count": 32,
   "id": "satisfied-scale",
   "metadata": {
    "execution": {
     "iopub.execute_input": "2021-05-12T06:52:45.886762Z",
     "iopub.status.busy": "2021-05-12T06:52:45.886110Z",
     "iopub.status.idle": "2021-05-12T06:52:45.893163Z",
     "shell.execute_reply": "2021-05-12T06:52:45.892660Z"
    },
    "papermill": {
     "duration": 0.111498,
     "end_time": "2021-05-12T06:52:45.893329",
     "exception": false,
     "start_time": "2021-05-12T06:52:45.781831",
     "status": "completed"
    },
    "tags": []
   },
   "outputs": [
    {
     "data": {
      "text/plain": [
       "id                   0\n",
       "age                  0\n",
       "hypertension         0\n",
       "heart_disease        0\n",
       "ever_married         0\n",
       "Residence_type       0\n",
       "avg_glucose_level    0\n",
       "bmi                  0\n",
       "gender               1\n",
       "work_type            0\n",
       "smoking_status       0\n",
       "dtype: int64"
      ]
     },
     "execution_count": 32,
     "metadata": {},
     "output_type": "execute_result"
    }
   ],
   "source": [
    "X.isnull().sum() #WE STILL HAVE 1 NULL VALUE IN THE GENDER COLUMN"
   ]
  },
  {
   "cell_type": "code",
   "execution_count": 33,
   "id": "alone-billy",
   "metadata": {
    "execution": {
     "iopub.execute_input": "2021-05-12T06:52:46.098353Z",
     "iopub.status.busy": "2021-05-12T06:52:46.097078Z",
     "iopub.status.idle": "2021-05-12T06:52:46.099787Z",
     "shell.execute_reply": "2021-05-12T06:52:46.099166Z"
    },
    "papermill": {
     "duration": 0.106916,
     "end_time": "2021-05-12T06:52:46.099937",
     "exception": false,
     "start_time": "2021-05-12T06:52:45.993021",
     "status": "completed"
    },
    "tags": []
   },
   "outputs": [],
   "source": [
    "X.gender=(X.gender.fillna(1))"
   ]
  },
  {
   "cell_type": "code",
   "execution_count": 34,
   "id": "controversial-documentation",
   "metadata": {
    "execution": {
     "iopub.execute_input": "2021-05-12T06:52:46.302849Z",
     "iopub.status.busy": "2021-05-12T06:52:46.301857Z",
     "iopub.status.idle": "2021-05-12T06:52:46.309638Z",
     "shell.execute_reply": "2021-05-12T06:52:46.308998Z"
    },
    "papermill": {
     "duration": 0.111704,
     "end_time": "2021-05-12T06:52:46.309787",
     "exception": false,
     "start_time": "2021-05-12T06:52:46.198083",
     "status": "completed"
    },
    "tags": []
   },
   "outputs": [
    {
     "data": {
      "text/plain": [
       "id                   0\n",
       "age                  0\n",
       "hypertension         0\n",
       "heart_disease        0\n",
       "ever_married         0\n",
       "Residence_type       0\n",
       "avg_glucose_level    0\n",
       "bmi                  0\n",
       "gender               0\n",
       "work_type            0\n",
       "smoking_status       0\n",
       "dtype: int64"
      ]
     },
     "execution_count": 34,
     "metadata": {},
     "output_type": "execute_result"
    }
   ],
   "source": [
    "X.isnull().sum()"
   ]
  },
  {
   "cell_type": "markdown",
   "id": "improving-asian",
   "metadata": {
    "papermill": {
     "duration": 0.098886,
     "end_time": "2021-05-12T06:52:46.508294",
     "exception": false,
     "start_time": "2021-05-12T06:52:46.409408",
     "status": "completed"
    },
    "tags": []
   },
   "source": [
    "SINCE THE TARGET CLASS IS HIGHLY IMBALANCED, WE NEED TO TREAT IT AS IT'S PRESENCE WILL LEAD TO POOR PERFORMANCE OF THE MODEL. HERE I HAVE USED SMOTE (Synthetic Minority Oversampling Technique) TECHNIQUE. SMOTE WORKS BY RANDOMNLY PICKING A POINT FROM MINORITY CLASS AND COMPUTING A K-NEAREST NEIGHBOURS FOR THIS POINT."
   ]
  },
  {
   "cell_type": "markdown",
   "id": "jewish-cache",
   "metadata": {
    "papermill": {
     "duration": 0.098156,
     "end_time": "2021-05-12T06:52:46.705635",
     "exception": false,
     "start_time": "2021-05-12T06:52:46.607479",
     "status": "completed"
    },
    "tags": []
   },
   "source": [
    "**TREATING IMBALANCE CLASS USING SMOTE**"
   ]
  },
  {
   "cell_type": "code",
   "execution_count": 35,
   "id": "differential-island",
   "metadata": {
    "execution": {
     "iopub.execute_input": "2021-05-12T06:52:46.907570Z",
     "iopub.status.busy": "2021-05-12T06:52:46.906890Z",
     "iopub.status.idle": "2021-05-12T06:52:47.700066Z",
     "shell.execute_reply": "2021-05-12T06:52:47.699519Z"
    },
    "papermill": {
     "duration": 0.896097,
     "end_time": "2021-05-12T06:52:47.700233",
     "exception": false,
     "start_time": "2021-05-12T06:52:46.804136",
     "status": "completed"
    },
    "tags": []
   },
   "outputs": [],
   "source": [
    "from imblearn.over_sampling import SMOTE\n",
    "\n",
    "smote = SMOTE()\n",
    "x_smote, y_smote = smote.fit_resample(X, y)"
   ]
  },
  {
   "cell_type": "markdown",
   "id": "accepting-disclaimer",
   "metadata": {
    "papermill": {
     "duration": 0.098791,
     "end_time": "2021-05-12T06:52:47.898747",
     "exception": false,
     "start_time": "2021-05-12T06:52:47.799956",
     "status": "completed"
    },
    "tags": []
   },
   "source": [
    "SPLITTING OF DATASET INTO TRAIN AND TEST"
   ]
  },
  {
   "cell_type": "code",
   "execution_count": 36,
   "id": "aggregate-annual",
   "metadata": {
    "execution": {
     "iopub.execute_input": "2021-05-12T06:52:48.104463Z",
     "iopub.status.busy": "2021-05-12T06:52:48.103755Z",
     "iopub.status.idle": "2021-05-12T06:52:48.110606Z",
     "shell.execute_reply": "2021-05-12T06:52:48.110050Z"
    },
    "papermill": {
     "duration": 0.113431,
     "end_time": "2021-05-12T06:52:48.110743",
     "exception": false,
     "start_time": "2021-05-12T06:52:47.997312",
     "status": "completed"
    },
    "tags": []
   },
   "outputs": [],
   "source": [
    "from sklearn.model_selection import train_test_split\n",
    "X_train,X_test, y_train,y_test=train_test_split(x_smote,y_smote,test_size=0.33,random_state=42)\n",
    "X_valid, X_test, y_valid, y_test = train_test_split(X_test, y_test, test_size=0.5, random_state=42)"
   ]
  },
  {
   "cell_type": "code",
   "execution_count": 37,
   "id": "ongoing-inclusion",
   "metadata": {
    "execution": {
     "iopub.execute_input": "2021-05-12T06:52:48.315743Z",
     "iopub.status.busy": "2021-05-12T06:52:48.314924Z",
     "iopub.status.idle": "2021-05-12T06:52:48.318271Z",
     "shell.execute_reply": "2021-05-12T06:52:48.318760Z"
    },
    "papermill": {
     "duration": 0.109559,
     "end_time": "2021-05-12T06:52:48.318929",
     "exception": false,
     "start_time": "2021-05-12T06:52:48.209370",
     "status": "completed"
    },
    "tags": []
   },
   "outputs": [
    {
     "data": {
      "text/plain": [
       "315     41940\n",
       "534     71808\n",
       "1427     5984\n",
       "9125    59078\n",
       "6025    54555\n",
       "        ...  \n",
       "3065    46455\n",
       "8270    42030\n",
       "6574    12032\n",
       "2487    44325\n",
       "620     34558\n",
       "Name: id, Length: 1605, dtype: int64"
      ]
     },
     "execution_count": 37,
     "metadata": {},
     "output_type": "execute_result"
    }
   ],
   "source": [
    "testing = X_test['id'] #taking ID column for the purpose of submission\n",
    "testing"
   ]
  },
  {
   "cell_type": "markdown",
   "id": "thousand-college",
   "metadata": {
    "papermill": {
     "duration": 0.099075,
     "end_time": "2021-05-12T06:52:48.518054",
     "exception": false,
     "start_time": "2021-05-12T06:52:48.418979",
     "status": "completed"
    },
    "tags": []
   },
   "source": [
    "AS ID COLUMN DOES NOT AFFETCT THE MODEL'S PERFORMANCE, WE DROP IT"
   ]
  },
  {
   "cell_type": "code",
   "execution_count": 38,
   "id": "coordinate-carbon",
   "metadata": {
    "execution": {
     "iopub.execute_input": "2021-05-12T06:52:48.725264Z",
     "iopub.status.busy": "2021-05-12T06:52:48.724570Z",
     "iopub.status.idle": "2021-05-12T06:52:48.728631Z",
     "shell.execute_reply": "2021-05-12T06:52:48.729178Z"
    },
    "papermill": {
     "duration": 0.111526,
     "end_time": "2021-05-12T06:52:48.729378",
     "exception": false,
     "start_time": "2021-05-12T06:52:48.617852",
     "status": "completed"
    },
    "tags": []
   },
   "outputs": [],
   "source": [
    "X_train = X_train.drop(columns=['id'])\n",
    "X_test = X_test.drop(columns=['id'])"
   ]
  },
  {
   "cell_type": "markdown",
   "id": "identified-length",
   "metadata": {
    "papermill": {
     "duration": 0.099332,
     "end_time": "2021-05-12T06:52:48.929306",
     "exception": false,
     "start_time": "2021-05-12T06:52:48.829974",
     "status": "completed"
    },
    "tags": []
   },
   "source": [
    "STANDARDIZATION OF THE DATA IS REQUIRED AS DATA ARE IN DIFFERENT SCALES"
   ]
  },
  {
   "cell_type": "code",
   "execution_count": 39,
   "id": "beginning-senate",
   "metadata": {
    "execution": {
     "iopub.execute_input": "2021-05-12T06:52:49.133250Z",
     "iopub.status.busy": "2021-05-12T06:52:49.132522Z",
     "iopub.status.idle": "2021-05-12T06:52:49.147175Z",
     "shell.execute_reply": "2021-05-12T06:52:49.146570Z"
    },
    "papermill": {
     "duration": 0.117964,
     "end_time": "2021-05-12T06:52:49.147361",
     "exception": false,
     "start_time": "2021-05-12T06:52:49.029397",
     "status": "completed"
    },
    "tags": []
   },
   "outputs": [],
   "source": [
    "from sklearn.preprocessing import StandardScaler\n",
    "sc=StandardScaler()\n",
    "\n",
    "X_train = sc.fit_transform(X_train)\n",
    "X_test = sc.transform(X_test)"
   ]
  },
  {
   "cell_type": "markdown",
   "id": "useful-uncertainty",
   "metadata": {
    "papermill": {
     "duration": 0.099829,
     "end_time": "2021-05-12T06:52:49.348243",
     "exception": false,
     "start_time": "2021-05-12T06:52:49.248414",
     "status": "completed"
    },
    "tags": []
   },
   "source": [
    "DATA POINTS AFTER STANDARDIZATION:"
   ]
  },
  {
   "cell_type": "code",
   "execution_count": 40,
   "id": "sapphire-reputation",
   "metadata": {
    "execution": {
     "iopub.execute_input": "2021-05-12T06:52:49.583528Z",
     "iopub.status.busy": "2021-05-12T06:52:49.582634Z",
     "iopub.status.idle": "2021-05-12T06:52:49.586857Z",
     "shell.execute_reply": "2021-05-12T06:52:49.586288Z"
    },
    "papermill": {
     "duration": 0.125038,
     "end_time": "2021-05-12T06:52:49.587002",
     "exception": false,
     "start_time": "2021-05-12T06:52:49.461964",
     "status": "completed"
    },
    "tags": []
   },
   "outputs": [
    {
     "data": {
      "text/plain": [
       "array([[-0.04544913, -0.29915684, -0.21781393, ...,  0.94278689,\n",
       "        -0.61449853,  0.70069914],\n",
       "       [ 1.11909028, -0.29915684, -0.21781393, ...,  0.11686953,\n",
       "        -0.61449853, -0.25503981],\n",
       "       [ 1.00814118, -0.29915684, -0.21781393, ...,  0.94278689,\n",
       "         0.47247293,  1.65643808],\n",
       "       ...,\n",
       "       [ 0.72051227, -0.29915684, -0.21781393, ...,  0.94278689,\n",
       "        -0.61449853,  0.70069914],\n",
       "       [-0.41794625, -0.29915684, -0.21781393, ...,  0.94278689,\n",
       "        -0.61449853,  0.70069914],\n",
       "       [ 0.75716492, -0.29915684, -0.21781393, ..., -0.74248068,\n",
       "        -0.61449853, -0.25503981]])"
      ]
     },
     "execution_count": 40,
     "metadata": {},
     "output_type": "execute_result"
    }
   ],
   "source": [
    "X_train"
   ]
  },
  {
   "cell_type": "code",
   "execution_count": 41,
   "id": "weighted-blogger",
   "metadata": {
    "execution": {
     "iopub.execute_input": "2021-05-12T06:52:49.791461Z",
     "iopub.status.busy": "2021-05-12T06:52:49.790793Z",
     "iopub.status.idle": "2021-05-12T06:52:49.797127Z",
     "shell.execute_reply": "2021-05-12T06:52:49.796495Z"
    },
    "papermill": {
     "duration": 0.11018,
     "end_time": "2021-05-12T06:52:49.797297",
     "exception": false,
     "start_time": "2021-05-12T06:52:49.687117",
     "status": "completed"
    },
    "tags": []
   },
   "outputs": [
    {
     "data": {
      "text/plain": [
       "array([[ 0.09423729, -0.29915684,  4.59107461, ..., -1.26734724,\n",
       "        -0.61449853, -1.21077876],\n",
       "       [-1.62856191, -0.29915684, -0.21781393, ...,  0.94278689,\n",
       "        -0.61449853,  1.65643808],\n",
       "       [-1.39575121, -0.29915684, -0.21781393, ..., -1.26734724,\n",
       "        -0.61449853,  0.70069914],\n",
       "       ...,\n",
       "       [ 0.21968599, -0.29915684, -0.21781393, ...,  0.94278689,\n",
       "        -0.61449853,  0.70069914],\n",
       "       [ 1.07204225, -0.29915684, -0.21781393, ..., -1.26734724,\n",
       "         0.47247293,  0.70069914],\n",
       "       [-1.02325408, -0.29915684, -0.21781393, ..., -1.26734724,\n",
       "        -0.61449853, -0.25503981]])"
      ]
     },
     "execution_count": 41,
     "metadata": {},
     "output_type": "execute_result"
    }
   ],
   "source": [
    "X_test"
   ]
  },
  {
   "cell_type": "markdown",
   "id": "decent-plaintiff",
   "metadata": {
    "papermill": {
     "duration": 0.101384,
     "end_time": "2021-05-12T06:52:49.999781",
     "exception": false,
     "start_time": "2021-05-12T06:52:49.898397",
     "status": "completed"
    },
    "tags": []
   },
   "source": [
    "LET'S APPLY **LOGISTIC REGRESSION**"
   ]
  },
  {
   "cell_type": "code",
   "execution_count": 42,
   "id": "radical-value",
   "metadata": {
    "execution": {
     "iopub.execute_input": "2021-05-12T06:52:50.209282Z",
     "iopub.status.busy": "2021-05-12T06:52:50.208586Z",
     "iopub.status.idle": "2021-05-12T06:52:50.247420Z",
     "shell.execute_reply": "2021-05-12T06:52:50.248353Z"
    },
    "papermill": {
     "duration": 0.146621,
     "end_time": "2021-05-12T06:52:50.248639",
     "exception": false,
     "start_time": "2021-05-12T06:52:50.102018",
     "status": "completed"
    },
    "tags": []
   },
   "outputs": [
    {
     "data": {
      "text/plain": [
       "LogisticRegression()"
      ]
     },
     "execution_count": 42,
     "metadata": {},
     "output_type": "execute_result"
    }
   ],
   "source": [
    "from sklearn.linear_model import LogisticRegression\n",
    "log_reg = LogisticRegression()\n",
    "log_reg.fit(X_train,y_train)\n"
   ]
  },
  {
   "cell_type": "code",
   "execution_count": 43,
   "id": "commercial-resolution",
   "metadata": {
    "execution": {
     "iopub.execute_input": "2021-05-12T06:52:50.507147Z",
     "iopub.status.busy": "2021-05-12T06:52:50.506059Z",
     "iopub.status.idle": "2021-05-12T06:52:50.515297Z",
     "shell.execute_reply": "2021-05-12T06:52:50.516237Z"
    },
    "papermill": {
     "duration": 0.118387,
     "end_time": "2021-05-12T06:52:50.516510",
     "exception": false,
     "start_time": "2021-05-12T06:52:50.398123",
     "status": "completed"
    },
    "tags": []
   },
   "outputs": [
    {
     "data": {
      "text/plain": [
       "array([0, 0, 0, ..., 1, 1, 0])"
      ]
     },
     "execution_count": 43,
     "metadata": {},
     "output_type": "execute_result"
    }
   ],
   "source": [
    "y_pred_log_reg = log_reg.predict(X_test)\n",
    "y_pred_log_reg"
   ]
  },
  {
   "cell_type": "markdown",
   "id": "possible-timeline",
   "metadata": {
    "papermill": {
     "duration": 0.101725,
     "end_time": "2021-05-12T06:52:50.767890",
     "exception": false,
     "start_time": "2021-05-12T06:52:50.666165",
     "status": "completed"
    },
    "tags": []
   },
   "source": [
    "CLASSIFICATION REPORT OF LOGISTIC REGRESSION"
   ]
  },
  {
   "cell_type": "code",
   "execution_count": 44,
   "id": "julian-statistics",
   "metadata": {
    "execution": {
     "iopub.execute_input": "2021-05-12T06:52:50.978627Z",
     "iopub.status.busy": "2021-05-12T06:52:50.977514Z",
     "iopub.status.idle": "2021-05-12T06:52:50.990640Z",
     "shell.execute_reply": "2021-05-12T06:52:50.990045Z"
    },
    "papermill": {
     "duration": 0.120632,
     "end_time": "2021-05-12T06:52:50.990803",
     "exception": false,
     "start_time": "2021-05-12T06:52:50.870171",
     "status": "completed"
    },
    "tags": []
   },
   "outputs": [
    {
     "name": "stdout",
     "output_type": "stream",
     "text": [
      "              precision    recall  f1-score   support\n",
      "\n",
      "           0       0.84      0.78      0.81       803\n",
      "           1       0.79      0.85      0.82       802\n",
      "\n",
      "    accuracy                           0.81      1605\n",
      "   macro avg       0.81      0.81      0.81      1605\n",
      "weighted avg       0.81      0.81      0.81      1605\n",
      "\n"
     ]
    }
   ],
   "source": [
    "from sklearn.metrics import f1_score, roc_auc_score,accuracy_score,confusion_matrix, precision_recall_curve, auc, roc_curve, recall_score, classification_report \n",
    "classification_report = classification_report(y_test, y_pred_log_reg)\n",
    "print(classification_report)"
   ]
  },
  {
   "cell_type": "markdown",
   "id": "occupied-williams",
   "metadata": {
    "papermill": {
     "duration": 0.102012,
     "end_time": "2021-05-12T06:52:51.196375",
     "exception": false,
     "start_time": "2021-05-12T06:52:51.094363",
     "status": "completed"
    },
    "tags": []
   },
   "source": [
    "VALUES OF F1 SCORE SHOWS THAT THE MODEL IS PERFORMING QUITE WELL"
   ]
  },
  {
   "cell_type": "code",
   "execution_count": 45,
   "id": "superb-humor",
   "metadata": {
    "execution": {
     "iopub.execute_input": "2021-05-12T06:52:51.406096Z",
     "iopub.status.busy": "2021-05-12T06:52:51.405456Z",
     "iopub.status.idle": "2021-05-12T06:52:51.413775Z",
     "shell.execute_reply": "2021-05-12T06:52:51.414280Z"
    },
    "papermill": {
     "duration": 0.115849,
     "end_time": "2021-05-12T06:52:51.414450",
     "exception": false,
     "start_time": "2021-05-12T06:52:51.298601",
     "status": "completed"
    },
    "tags": []
   },
   "outputs": [
    {
     "data": {
      "text/plain": [
       "0.8124823371210828"
      ]
     },
     "execution_count": 45,
     "metadata": {},
     "output_type": "execute_result"
    }
   ],
   "source": [
    "auc = roc_auc_score(y_test, y_pred_log_reg)\n",
    "auc"
   ]
  },
  {
   "cell_type": "markdown",
   "id": "premium-aquatic",
   "metadata": {
    "papermill": {
     "duration": 0.105078,
     "end_time": "2021-05-12T06:52:51.622043",
     "exception": false,
     "start_time": "2021-05-12T06:52:51.516965",
     "status": "completed"
    },
    "tags": []
   },
   "source": [
    "AUC SCORE OF AROUND 80% IS QUITE GOOD. MODEL IS ABLE TO CLASSIFY THE CLASSES VERY WELL"
   ]
  },
  {
   "cell_type": "code",
   "execution_count": 46,
   "id": "dependent-latino",
   "metadata": {
    "execution": {
     "iopub.execute_input": "2021-05-12T06:52:51.832605Z",
     "iopub.status.busy": "2021-05-12T06:52:51.831898Z",
     "iopub.status.idle": "2021-05-12T06:52:51.841216Z",
     "shell.execute_reply": "2021-05-12T06:52:51.841771Z"
    },
    "papermill": {
     "duration": 0.117367,
     "end_time": "2021-05-12T06:52:51.841954",
     "exception": false,
     "start_time": "2021-05-12T06:52:51.724587",
     "status": "completed"
    },
    "tags": []
   },
   "outputs": [
    {
     "data": {
      "text/plain": [
       "array([[625, 178],\n",
       "       [123, 679]])"
      ]
     },
     "execution_count": 46,
     "metadata": {},
     "output_type": "execute_result"
    }
   ],
   "source": [
    "cm = confusion_matrix(y_test, y_pred_log_reg)\n",
    "cm"
   ]
  },
  {
   "cell_type": "code",
   "execution_count": 47,
   "id": "following-exception",
   "metadata": {
    "execution": {
     "iopub.execute_input": "2021-05-12T06:52:52.053903Z",
     "iopub.status.busy": "2021-05-12T06:52:52.053179Z",
     "iopub.status.idle": "2021-05-12T06:52:52.064953Z",
     "shell.execute_reply": "2021-05-12T06:52:52.065781Z"
    },
    "papermill": {
     "duration": 0.119693,
     "end_time": "2021-05-12T06:52:52.066095",
     "exception": false,
     "start_time": "2021-05-12T06:52:51.946402",
     "status": "completed"
    },
    "tags": []
   },
   "outputs": [],
   "source": [
    "predicted_probab_log = log_reg.predict_proba(X_test)\n",
    "predicted_probab_log = predicted_probab_log[:, 1]\n",
    "fpr, tpr, _ = roc_curve(y_test, predicted_probab_log)"
   ]
  },
  {
   "cell_type": "markdown",
   "id": "declared-capability",
   "metadata": {
    "papermill": {
     "duration": 0.106065,
     "end_time": "2021-05-12T06:52:52.324820",
     "exception": false,
     "start_time": "2021-05-12T06:52:52.218755",
     "status": "completed"
    },
    "tags": []
   },
   "source": [
    "**ROC CURVE**"
   ]
  },
  {
   "cell_type": "code",
   "execution_count": 48,
   "id": "standing-works",
   "metadata": {
    "execution": {
     "iopub.execute_input": "2021-05-12T06:52:52.586154Z",
     "iopub.status.busy": "2021-05-12T06:52:52.584363Z",
     "iopub.status.idle": "2021-05-12T06:52:52.695241Z",
     "shell.execute_reply": "2021-05-12T06:52:52.694574Z"
    },
    "papermill": {
     "duration": 0.266233,
     "end_time": "2021-05-12T06:52:52.695384",
     "exception": false,
     "start_time": "2021-05-12T06:52:52.429151",
     "status": "completed"
    },
    "tags": []
   },
   "outputs": [
    {
     "data": {
      "image/png": "[encoded data removed]",
      "text/plain": [
       "<Figure size 432x288 with 1 Axes>"
      ]
     },
     "metadata": {
      "needs_background": "light"
     },
     "output_type": "display_data"
    }
   ],
   "source": [
    "from matplotlib import pyplot\n",
    "pyplot.plot(fpr, tpr, marker='.', label='Logistic Regression')\n",
    "pyplot.xlabel('False Positive Rate')\n",
    "pyplot.ylabel('True Positive Rate')\n",
    "pyplot.legend()\n",
    "pyplot.show()"
   ]
  },
  {
   "cell_type": "markdown",
   "id": "republican-persian",
   "metadata": {
    "papermill": {
     "duration": 0.128924,
     "end_time": "2021-05-12T06:52:52.929269",
     "exception": false,
     "start_time": "2021-05-12T06:52:52.800345",
     "status": "completed"
    },
    "tags": []
   },
   "source": [
    "LOGISTIC REGRESSION IS PERFORMING WELL, BUT CAN WE IMPROVE PERFORMANCE USING ANOTHER MODEL? LET'S APPLY ANOTHER ALGORITHM"
   ]
  },
  {
   "cell_type": "markdown",
   "id": "coral-nicholas",
   "metadata": {
    "papermill": {
     "duration": 0.104445,
     "end_time": "2021-05-12T06:52:53.139515",
     "exception": false,
     "start_time": "2021-05-12T06:52:53.035070",
     "status": "completed"
    },
    "tags": []
   },
   "source": [
    "**RANDOM FOREST**"
   ]
  },
  {
   "cell_type": "code",
   "execution_count": 49,
   "id": "sixth-proceeding",
   "metadata": {
    "execution": {
     "iopub.execute_input": "2021-05-12T06:52:53.358490Z",
     "iopub.status.busy": "2021-05-12T06:52:53.355969Z",
     "iopub.status.idle": "2021-05-12T06:52:54.183020Z",
     "shell.execute_reply": "2021-05-12T06:52:54.181964Z"
    },
    "papermill": {
     "duration": 0.937856,
     "end_time": "2021-05-12T06:52:54.183178",
     "exception": false,
     "start_time": "2021-05-12T06:52:53.245322",
     "status": "completed"
    },
    "tags": []
   },
   "outputs": [
    {
     "data": {
      "text/plain": [
       "RandomForestClassifier()"
      ]
     },
     "execution_count": 49,
     "metadata": {},
     "output_type": "execute_result"
    }
   ],
   "source": [
    "from sklearn.ensemble import RandomForestClassifier\n",
    "rfc = RandomForestClassifier()\n",
    "rfc.fit(X_train, y_train)"
   ]
  },
  {
   "cell_type": "code",
   "execution_count": 50,
   "id": "celtic-socket",
   "metadata": {
    "execution": {
     "iopub.execute_input": "2021-05-12T06:52:54.399867Z",
     "iopub.status.busy": "2021-05-12T06:52:54.399151Z",
     "iopub.status.idle": "2021-05-12T06:52:54.443035Z",
     "shell.execute_reply": "2021-05-12T06:52:54.442502Z"
    },
    "papermill": {
     "duration": 0.154462,
     "end_time": "2021-05-12T06:52:54.443181",
     "exception": false,
     "start_time": "2021-05-12T06:52:54.288719",
     "status": "completed"
    },
    "tags": []
   },
   "outputs": [
    {
     "data": {
      "text/plain": [
       "0.9183780896451275"
      ]
     },
     "execution_count": 50,
     "metadata": {},
     "output_type": "execute_result"
    }
   ],
   "source": [
    "rfc_predict = rfc.predict(X_test)\n",
    "roc_auc_score(y_test, rfc_predict)"
   ]
  },
  {
   "cell_type": "markdown",
   "id": "absolute-tennessee",
   "metadata": {
    "papermill": {
     "duration": 0.106666,
     "end_time": "2021-05-12T06:52:54.655574",
     "exception": false,
     "start_time": "2021-05-12T06:52:54.548908",
     "status": "completed"
    },
    "tags": []
   },
   "source": [
    "AUC SCORE HAS INCREASED TO **94%**. AMAZING!!"
   ]
  },
  {
   "cell_type": "code",
   "execution_count": 51,
   "id": "mobile-rugby",
   "metadata": {
    "execution": {
     "iopub.execute_input": "2021-05-12T06:52:54.870898Z",
     "iopub.status.busy": "2021-05-12T06:52:54.870177Z",
     "iopub.status.idle": "2021-05-12T06:52:54.876983Z",
     "shell.execute_reply": "2021-05-12T06:52:54.877457Z"
    },
    "papermill": {
     "duration": 0.116697,
     "end_time": "2021-05-12T06:52:54.877643",
     "exception": false,
     "start_time": "2021-05-12T06:52:54.760946",
     "status": "completed"
    },
    "tags": []
   },
   "outputs": [
    {
     "data": {
      "text/plain": [
       "array([[740,  63],\n",
       "       [ 68, 734]])"
      ]
     },
     "execution_count": 51,
     "metadata": {},
     "output_type": "execute_result"
    }
   ],
   "source": [
    "cm = confusion_matrix(y_test, rfc_predict)\n",
    "cm"
   ]
  },
  {
   "cell_type": "markdown",
   "id": "overall-sunset",
   "metadata": {
    "papermill": {
     "duration": 0.107251,
     "end_time": "2021-05-12T06:52:55.092208",
     "exception": false,
     "start_time": "2021-05-12T06:52:54.984957",
     "status": "completed"
    },
    "tags": []
   },
   "source": [
    "CALCULATION OF F1 SCORE"
   ]
  },
  {
   "cell_type": "code",
   "execution_count": 52,
   "id": "tracked-center",
   "metadata": {
    "execution": {
     "iopub.execute_input": "2021-05-12T06:52:55.307556Z",
     "iopub.status.busy": "2021-05-12T06:52:55.306880Z",
     "iopub.status.idle": "2021-05-12T06:52:55.315890Z",
     "shell.execute_reply": "2021-05-12T06:52:55.314838Z"
    },
    "papermill": {
     "duration": 0.117653,
     "end_time": "2021-05-12T06:52:55.316147",
     "exception": false,
     "start_time": "2021-05-12T06:52:55.198494",
     "status": "completed"
    },
    "tags": []
   },
   "outputs": [
    {
     "name": "stdout",
     "output_type": "stream",
     "text": [
      "0.9180737961225766\n"
     ]
    }
   ],
   "source": [
    "tn = cm[0,0]\n",
    "fp = cm[0,1]\n",
    "tp = cm[1,1]\n",
    "fn = cm[1,0]\n",
    "accuracy  = (tp + tn) / (tp + fp + tn + fn)\n",
    "precision = tp / (tp + fp)\n",
    "recall    = tp / (tp + fn)\n",
    "f1score  = 2 * precision * recall / (precision + recall)\n",
    "print(f1score)"
   ]
  },
  {
   "cell_type": "code",
   "execution_count": 53,
   "id": "varied-syndicate",
   "metadata": {
    "execution": {
     "iopub.execute_input": "2021-05-12T06:52:55.539111Z",
     "iopub.status.busy": "2021-05-12T06:52:55.538070Z",
     "iopub.status.idle": "2021-05-12T06:52:55.579569Z",
     "shell.execute_reply": "2021-05-12T06:52:55.578992Z"
    },
    "papermill": {
     "duration": 0.154046,
     "end_time": "2021-05-12T06:52:55.579724",
     "exception": false,
     "start_time": "2021-05-12T06:52:55.425678",
     "status": "completed"
    },
    "tags": []
   },
   "outputs": [],
   "source": [
    "predicted_probab = rfc.predict_proba(X_test)"
   ]
  },
  {
   "cell_type": "code",
   "execution_count": 54,
   "id": "innovative-assets",
   "metadata": {
    "execution": {
     "iopub.execute_input": "2021-05-12T06:52:55.798090Z",
     "iopub.status.busy": "2021-05-12T06:52:55.797074Z",
     "iopub.status.idle": "2021-05-12T06:52:55.800392Z",
     "shell.execute_reply": "2021-05-12T06:52:55.799759Z"
    },
    "papermill": {
     "duration": 0.11447,
     "end_time": "2021-05-12T06:52:55.800540",
     "exception": false,
     "start_time": "2021-05-12T06:52:55.686070",
     "status": "completed"
    },
    "tags": []
   },
   "outputs": [],
   "source": [
    "predicted_probab = predicted_probab[:, 1]"
   ]
  },
  {
   "cell_type": "code",
   "execution_count": 55,
   "id": "social-counter",
   "metadata": {
    "execution": {
     "iopub.execute_input": "2021-05-12T06:52:56.021067Z",
     "iopub.status.busy": "2021-05-12T06:52:56.020109Z",
     "iopub.status.idle": "2021-05-12T06:52:56.024499Z",
     "shell.execute_reply": "2021-05-12T06:52:56.023950Z"
    },
    "papermill": {
     "duration": 0.11692,
     "end_time": "2021-05-12T06:52:56.024653",
     "exception": false,
     "start_time": "2021-05-12T06:52:55.907733",
     "status": "completed"
    },
    "tags": []
   },
   "outputs": [],
   "source": [
    "fpr, tpr, _ = roc_curve(y_test, predicted_probab)"
   ]
  },
  {
   "cell_type": "markdown",
   "id": "protected-mexico",
   "metadata": {
    "papermill": {
     "duration": 0.105624,
     "end_time": "2021-05-12T06:52:56.237072",
     "exception": false,
     "start_time": "2021-05-12T06:52:56.131448",
     "status": "completed"
    },
    "tags": []
   },
   "source": [
    "**ROC CURVE**"
   ]
  },
  {
   "cell_type": "code",
   "execution_count": 56,
   "id": "dressed-realtor",
   "metadata": {
    "execution": {
     "iopub.execute_input": "2021-05-12T06:52:56.504887Z",
     "iopub.status.busy": "2021-05-12T06:52:56.503249Z",
     "iopub.status.idle": "2021-05-12T06:52:56.614932Z",
     "shell.execute_reply": "2021-05-12T06:52:56.614339Z"
    },
    "papermill": {
     "duration": 0.271524,
     "end_time": "2021-05-12T06:52:56.615073",
     "exception": false,
     "start_time": "2021-05-12T06:52:56.343549",
     "status": "completed"
    },
    "tags": []
   },
   "outputs": [
    {
     "data": {
      "image/png": "[encoded data removed]",
      "text/plain": [
       "<Figure size 432x288 with 1 Axes>"
      ]
     },
     "metadata": {
      "needs_background": "light"
     },
     "output_type": "display_data"
    }
   ],
   "source": [
    "from matplotlib import pyplot\n",
    "pyplot.plot(fpr, tpr, marker='.', color='red', label='Random Forest')\n",
    "pyplot.xlabel('False Positive Rate')\n",
    "pyplot.ylabel('True Positive Rate')\n",
    "pyplot.legend()\n",
    "pyplot.show()"
   ]
  },
  {
   "cell_type": "markdown",
   "id": "worthy-indication",
   "metadata": {
    "papermill": {
     "duration": 0.10719,
     "end_time": "2021-05-12T06:52:56.829412",
     "exception": false,
     "start_time": "2021-05-12T06:52:56.722222",
     "status": "completed"
    },
    "tags": []
   },
   "source": [
    "LET'S SEE IF WE CAN IMPROVE IT FURTHER USING ANOTHER MODEL"
   ]
  },
  {
   "cell_type": "markdown",
   "id": "accessory-academy",
   "metadata": {
    "papermill": {
     "duration": 0.107574,
     "end_time": "2021-05-12T06:52:57.044123",
     "exception": false,
     "start_time": "2021-05-12T06:52:56.936549",
     "status": "completed"
    },
    "tags": []
   },
   "source": [
    "**XGBOOST CLASSIFIER**"
   ]
  },
  {
   "cell_type": "code",
   "execution_count": 57,
   "id": "finnish-specific",
   "metadata": {
    "execution": {
     "iopub.execute_input": "2021-05-12T06:52:57.264689Z",
     "iopub.status.busy": "2021-05-12T06:52:57.263855Z",
     "iopub.status.idle": "2021-05-12T06:52:57.339172Z",
     "shell.execute_reply": "2021-05-12T06:52:57.338072Z"
    },
    "papermill": {
     "duration": 0.187019,
     "end_time": "2021-05-12T06:52:57.339357",
     "exception": false,
     "start_time": "2021-05-12T06:52:57.152338",
     "status": "completed"
    },
    "tags": []
   },
   "outputs": [],
   "source": [
    "import xgboost as xgb"
   ]
  },
  {
   "cell_type": "code",
   "execution_count": 58,
   "id": "negative-schema",
   "metadata": {
    "execution": {
     "iopub.execute_input": "2021-05-12T06:52:57.560832Z",
     "iopub.status.busy": "2021-05-12T06:52:57.559812Z",
     "iopub.status.idle": "2021-05-12T06:52:58.034041Z",
     "shell.execute_reply": "2021-05-12T06:52:58.034694Z"
    },
    "papermill": {
     "duration": 0.587185,
     "end_time": "2021-05-12T06:52:58.034874",
     "exception": false,
     "start_time": "2021-05-12T06:52:57.447689",
     "status": "completed"
    },
    "tags": []
   },
   "outputs": [
    {
     "name": "stdout",
     "output_type": "stream",
     "text": [
      "[06:52:57] WARNING: ../src/learner.cc:1095: Starting in XGBoost 1.3.0, the default evaluation metric used with the objective 'binary:logistic' was changed from 'error' to 'logloss'. Explicitly set eval_metric if you'd like to restore the old behavior.\n"
     ]
    },
    {
     "data": {
      "text/plain": [
       "XGBClassifier(base_score=0.5, booster='gbtree', colsample_bylevel=1,\n",
       "              colsample_bynode=1, colsample_bytree=1, gamma=0, gpu_id=-1,\n",
       "              importance_type='gain', interaction_constraints='',\n",
       "              learning_rate=0.300000012, max_delta_step=0, max_depth=6,\n",
       "              min_child_weight=1, missing=nan, monotone_constraints='()',\n",
       "              n_estimators=100, n_jobs=4, num_parallel_tree=1, random_state=0,\n",
       "              reg_alpha=0, reg_lambda=1, scale_pos_weight=1, subsample=1,\n",
       "              tree_method='exact', validate_parameters=1, verbosity=None)"
      ]
     },
     "execution_count": 58,
     "metadata": {},
     "output_type": "execute_result"
    }
   ],
   "source": [
    "model = xgb.XGBClassifier()\n",
    "model.fit(X_train,y_train)"
   ]
  },
  {
   "cell_type": "code",
   "execution_count": 59,
   "id": "intensive-berkeley",
   "metadata": {
    "execution": {
     "iopub.execute_input": "2021-05-12T06:52:58.259990Z",
     "iopub.status.busy": "2021-05-12T06:52:58.258950Z",
     "iopub.status.idle": "2021-05-12T06:52:58.267913Z",
     "shell.execute_reply": "2021-05-12T06:52:58.268475Z"
    },
    "papermill": {
     "duration": 0.12436,
     "end_time": "2021-05-12T06:52:58.268697",
     "exception": false,
     "start_time": "2021-05-12T06:52:58.144337",
     "status": "completed"
    },
    "tags": []
   },
   "outputs": [],
   "source": [
    "y_pred1 = model.predict(X_test)"
   ]
  },
  {
   "cell_type": "code",
   "execution_count": 60,
   "id": "independent-wallet",
   "metadata": {
    "execution": {
     "iopub.execute_input": "2021-05-12T06:52:58.494687Z",
     "iopub.status.busy": "2021-05-12T06:52:58.494024Z",
     "iopub.status.idle": "2021-05-12T06:52:58.499146Z",
     "shell.execute_reply": "2021-05-12T06:52:58.499718Z"
    },
    "papermill": {
     "duration": 0.1204,
     "end_time": "2021-05-12T06:52:58.499891",
     "exception": false,
     "start_time": "2021-05-12T06:52:58.379491",
     "status": "completed"
    },
    "tags": []
   },
   "outputs": [
    {
     "data": {
      "text/plain": [
       "0.9451557904740019"
      ]
     },
     "execution_count": 60,
     "metadata": {},
     "output_type": "execute_result"
    }
   ],
   "source": [
    "roc_auc_score(y_test, y_pred1)"
   ]
  },
  {
   "cell_type": "markdown",
   "id": "postal-prayer",
   "metadata": {
    "papermill": {
     "duration": 0.108956,
     "end_time": "2021-05-12T06:52:58.718311",
     "exception": false,
     "start_time": "2021-05-12T06:52:58.609355",
     "status": "completed"
    },
    "tags": []
   },
   "source": [
    "WOW!! AUC SCORE INCREASED"
   ]
  },
  {
   "cell_type": "code",
   "execution_count": 61,
   "id": "assumed-company",
   "metadata": {
    "execution": {
     "iopub.execute_input": "2021-05-12T06:52:58.940679Z",
     "iopub.status.busy": "2021-05-12T06:52:58.939631Z",
     "iopub.status.idle": "2021-05-12T06:52:58.949034Z",
     "shell.execute_reply": "2021-05-12T06:52:58.949537Z"
    },
    "papermill": {
     "duration": 0.122267,
     "end_time": "2021-05-12T06:52:58.949727",
     "exception": false,
     "start_time": "2021-05-12T06:52:58.827460",
     "status": "completed"
    },
    "tags": []
   },
   "outputs": [
    {
     "data": {
      "text/plain": [
       "array([[779,  24],\n",
       "       [ 64, 738]])"
      ]
     },
     "execution_count": 61,
     "metadata": {},
     "output_type": "execute_result"
    }
   ],
   "source": [
    "cm = confusion_matrix(y_test, y_pred1)\n",
    "cm"
   ]
  },
  {
   "cell_type": "code",
   "execution_count": 62,
   "id": "hungarian-stuff",
   "metadata": {
    "execution": {
     "iopub.execute_input": "2021-05-12T06:52:59.175219Z",
     "iopub.status.busy": "2021-05-12T06:52:59.174221Z",
     "iopub.status.idle": "2021-05-12T06:52:59.181489Z",
     "shell.execute_reply": "2021-05-12T06:52:59.181965Z"
    },
    "papermill": {
     "duration": 0.121413,
     "end_time": "2021-05-12T06:52:59.182132",
     "exception": false,
     "start_time": "2021-05-12T06:52:59.060719",
     "status": "completed"
    },
    "tags": []
   },
   "outputs": [
    {
     "name": "stdout",
     "output_type": "stream",
     "text": [
      "0.9437340153452685\n"
     ]
    }
   ],
   "source": [
    "tn = cm[0,0]\n",
    "fp = cm[0,1]\n",
    "tp = cm[1,1]\n",
    "fn = cm[1,0]\n",
    "accuracy  = (tp + tn) / (tp + fp + tn + fn)\n",
    "precision = tp / (tp + fp)\n",
    "recall    = tp / (tp + fn)\n",
    "f1score  = 2 * precision * recall / (precision + recall)\n",
    "print(f1score)"
   ]
  },
  {
   "cell_type": "markdown",
   "id": "liable-ranch",
   "metadata": {
    "papermill": {
     "duration": 0.110581,
     "end_time": "2021-05-12T06:52:59.402484",
     "exception": false,
     "start_time": "2021-05-12T06:52:59.291903",
     "status": "completed"
    },
    "tags": []
   },
   "source": [
    "AMAZING F1 SCORE"
   ]
  },
  {
   "cell_type": "code",
   "execution_count": 63,
   "id": "documented-teddy",
   "metadata": {
    "execution": {
     "iopub.execute_input": "2021-05-12T06:52:59.630531Z",
     "iopub.status.busy": "2021-05-12T06:52:59.629836Z",
     "iopub.status.idle": "2021-05-12T06:52:59.644849Z",
     "shell.execute_reply": "2021-05-12T06:52:59.645438Z"
    },
    "papermill": {
     "duration": 0.131962,
     "end_time": "2021-05-12T06:52:59.645655",
     "exception": false,
     "start_time": "2021-05-12T06:52:59.513693",
     "status": "completed"
    },
    "tags": []
   },
   "outputs": [],
   "source": [
    "predicted_probab = model.predict_proba(X_test)\n",
    "predicted_probab = predicted_probab[:, 1]\n",
    "fpr, tpr, _ = roc_curve(y_test, predicted_probab)"
   ]
  },
  {
   "cell_type": "markdown",
   "id": "documentary-point",
   "metadata": {
    "papermill": {
     "duration": 0.110107,
     "end_time": "2021-05-12T06:52:59.868598",
     "exception": false,
     "start_time": "2021-05-12T06:52:59.758491",
     "status": "completed"
    },
    "tags": []
   },
   "source": [
    "**ROC CURVE**"
   ]
  },
  {
   "cell_type": "code",
   "execution_count": 64,
   "id": "broken-sphere",
   "metadata": {
    "execution": {
     "iopub.execute_input": "2021-05-12T06:53:00.146153Z",
     "iopub.status.busy": "2021-05-12T06:53:00.145419Z",
     "iopub.status.idle": "2021-05-12T06:53:00.256177Z",
     "shell.execute_reply": "2021-05-12T06:53:00.255537Z"
    },
    "papermill": {
     "duration": 0.277929,
     "end_time": "2021-05-12T06:53:00.256337",
     "exception": false,
     "start_time": "2021-05-12T06:52:59.978408",
     "status": "completed"
    },
    "tags": []
   },
   "outputs": [
    {
     "data": {
      "image/png": "[encoded data removed]",
      "text/plain": [
       "<Figure size 432x288 with 1 Axes>"
      ]
     },
     "metadata": {
      "needs_background": "light"
     },
     "output_type": "display_data"
    }
   ],
   "source": [
    "from matplotlib import pyplot\n",
    "pyplot.plot(fpr, tpr, marker='.', color='green',label='XGB Classifier')\n",
    "pyplot.xlabel('False Positive Rate')\n",
    "pyplot.ylabel('True Positive Rate')\n",
    "pyplot.legend()\n",
    "pyplot.show()"
   ]
  },
  {
   "cell_type": "code",
   "execution_count": 65,
   "id": "charitable-hughes",
   "metadata": {
    "execution": {
     "iopub.execute_input": "2021-05-12T06:53:00.516249Z",
     "iopub.status.busy": "2021-05-12T06:53:00.515116Z",
     "iopub.status.idle": "2021-05-12T06:53:00.534005Z",
     "shell.execute_reply": "2021-05-12T06:53:00.534535Z"
    },
    "papermill": {
     "duration": 0.167149,
     "end_time": "2021-05-12T06:53:00.534720",
     "exception": false,
     "start_time": "2021-05-12T06:53:00.367571",
     "status": "completed"
    },
    "tags": []
   },
   "outputs": [
    {
     "data": {
      "text/html": [
       "<div>\n",
       "<style scoped>\n",
       "    .dataframe tbody tr th:only-of-type {\n",
       "        vertical-align: middle;\n",
       "    }\n",
       "\n",
       "    .dataframe tbody tr th {\n",
       "        vertical-align: top;\n",
       "    }\n",
       "\n",
       "    .dataframe thead th {\n",
       "        text-align: right;\n",
       "    }\n",
       "</style>\n",
       "<table border=\"1\" class=\"dataframe\">\n",
       "  <thead>\n",
       "    <tr style=\"text-align: right;\">\n",
       "      <th></th>\n",
       "      <th>Id</th>\n",
       "      <th>Stroke</th>\n",
       "    </tr>\n",
       "  </thead>\n",
       "  <tbody>\n",
       "    <tr>\n",
       "      <th>0</th>\n",
       "      <td>41940</td>\n",
       "      <td>0</td>\n",
       "    </tr>\n",
       "    <tr>\n",
       "      <th>1</th>\n",
       "      <td>71808</td>\n",
       "      <td>0</td>\n",
       "    </tr>\n",
       "    <tr>\n",
       "      <th>2</th>\n",
       "      <td>5984</td>\n",
       "      <td>0</td>\n",
       "    </tr>\n",
       "    <tr>\n",
       "      <th>3</th>\n",
       "      <td>59078</td>\n",
       "      <td>1</td>\n",
       "    </tr>\n",
       "    <tr>\n",
       "      <th>4</th>\n",
       "      <td>54555</td>\n",
       "      <td>1</td>\n",
       "    </tr>\n",
       "    <tr>\n",
       "      <th>...</th>\n",
       "      <td>...</td>\n",
       "      <td>...</td>\n",
       "    </tr>\n",
       "    <tr>\n",
       "      <th>1600</th>\n",
       "      <td>46455</td>\n",
       "      <td>0</td>\n",
       "    </tr>\n",
       "    <tr>\n",
       "      <th>1601</th>\n",
       "      <td>42030</td>\n",
       "      <td>1</td>\n",
       "    </tr>\n",
       "    <tr>\n",
       "      <th>1602</th>\n",
       "      <td>12032</td>\n",
       "      <td>1</td>\n",
       "    </tr>\n",
       "    <tr>\n",
       "      <th>1603</th>\n",
       "      <td>44325</td>\n",
       "      <td>1</td>\n",
       "    </tr>\n",
       "    <tr>\n",
       "      <th>1604</th>\n",
       "      <td>34558</td>\n",
       "      <td>0</td>\n",
       "    </tr>\n",
       "  </tbody>\n",
       "</table>\n",
       "<p>1605 rows × 2 columns</p>\n",
       "</div>"
      ],
      "text/plain": [
       "         Id  Stroke\n",
       "0     41940       0\n",
       "1     71808       0\n",
       "2      5984       0\n",
       "3     59078       1\n",
       "4     54555       1\n",
       "...     ...     ...\n",
       "1600  46455       0\n",
       "1601  42030       1\n",
       "1602  12032       1\n",
       "1603  44325       1\n",
       "1604  34558       0\n",
       "\n",
       "[1605 rows x 2 columns]"
      ]
     },
     "execution_count": 65,
     "metadata": {},
     "output_type": "execute_result"
    }
   ],
   "source": [
    "\n",
    "my_submission = pd.DataFrame({'Id': testing, 'Stroke': y_pred1})\n",
    "my_submission.to_csv('submission.csv', index=False)\n",
    "my_submission = pd.read_csv('submission.csv')\n",
    "my_submission\n"
   ]
  },
  {
   "cell_type": "markdown",
   "id": "apart-necklace",
   "metadata": {
    "papermill": {
     "duration": 0.111329,
     "end_time": "2021-05-12T06:53:00.760393",
     "exception": false,
     "start_time": "2021-05-12T06:53:00.649064",
     "status": "completed"
    },
    "tags": []
   },
   "source": [
    "**LET'S FIND OUT THE BEST PARAMETERS**"
   ]
  },
  {
   "cell_type": "code",
   "execution_count": 66,
   "id": "analyzed-divorce",
   "metadata": {
    "execution": {
     "iopub.execute_input": "2021-05-12T06:53:00.985935Z",
     "iopub.status.busy": "2021-05-12T06:53:00.984945Z",
     "iopub.status.idle": "2021-05-12T06:53:00.990132Z",
     "shell.execute_reply": "2021-05-12T06:53:00.990643Z"
    },
    "papermill": {
     "duration": 0.119466,
     "end_time": "2021-05-12T06:53:00.990830",
     "exception": false,
     "start_time": "2021-05-12T06:53:00.871364",
     "status": "completed"
    },
    "tags": []
   },
   "outputs": [],
   "source": [
    "params = {\n",
    "        'min_child_weight': [1, 5, 10],\n",
    "        'gamma': [0.5, 1, 1.5, 2, 5],\n",
    "        'subsample': [0.6, 0.8, 1.0],\n",
    "        'colsample_bytree': [0.6, 0.8, 1.0],\n",
    "        'max_depth': [3, 4, 5]\n",
    "        }"
   ]
  },
  {
   "cell_type": "code",
   "execution_count": 67,
   "id": "experienced-wallpaper",
   "metadata": {
    "execution": {
     "iopub.execute_input": "2021-05-12T06:53:01.220334Z",
     "iopub.status.busy": "2021-05-12T06:53:01.219350Z",
     "iopub.status.idle": "2021-05-12T06:53:01.224726Z",
     "shell.execute_reply": "2021-05-12T06:53:01.224062Z"
    },
    "papermill": {
     "duration": 0.1218,
     "end_time": "2021-05-12T06:53:01.224867",
     "exception": false,
     "start_time": "2021-05-12T06:53:01.103067",
     "status": "completed"
    },
    "tags": []
   },
   "outputs": [],
   "source": [
    "xgb = xgb.XGBClassifier(learning_rate=0.02, n_estimators=600, objective='binary:logistic',\n",
    "                    silent=True, nthread=1)"
   ]
  },
  {
   "cell_type": "markdown",
   "id": "superior-oakland",
   "metadata": {
    "papermill": {
     "duration": 0.112066,
     "end_time": "2021-05-12T06:53:01.447831",
     "exception": false,
     "start_time": "2021-05-12T06:53:01.335765",
     "status": "completed"
    },
    "tags": []
   },
   "source": [
    "**APPLYING GRID SEARCH**"
   ]
  },
  {
   "cell_type": "code",
   "execution_count": 68,
   "id": "loving-synthesis",
   "metadata": {
    "execution": {
     "iopub.execute_input": "2021-05-12T06:53:01.680358Z",
     "iopub.status.busy": "2021-05-12T06:53:01.679008Z",
     "iopub.status.idle": "2021-05-12T06:53:32.912721Z",
     "shell.execute_reply": "2021-05-12T06:53:32.913260Z"
    },
    "papermill": {
     "duration": 31.354004,
     "end_time": "2021-05-12T06:53:32.913444",
     "exception": false,
     "start_time": "2021-05-12T06:53:01.559440",
     "status": "completed"
    },
    "tags": []
   },
   "outputs": [
    {
     "name": "stdout",
     "output_type": "stream",
     "text": [
      "Fitting 5 folds for each of 5 candidates, totalling 25 fits\n",
      "[06:53:29] WARNING: ../src/learner.cc:573: \n",
      "Parameters: { \"silent\" } might not be used.\n",
      "\n",
      "  This may not be accurate due to some parameters are only used in language bindings but\n",
      "  passed down to XGBoost core.  Or some parameters are not used but slip through this\n",
      "  verification. Please open an issue if you find above cases.\n",
      "\n",
      "\n",
      "[06:53:29] WARNING: ../src/learner.cc:1095: Starting in XGBoost 1.3.0, the default evaluation metric used with the objective 'binary:logistic' was changed from 'error' to 'logloss'. Explicitly set eval_metric if you'd like to restore the old behavior.\n"
     ]
    },
    {
     "data": {
      "text/plain": [
       "RandomizedSearchCV(estimator=XGBClassifier(base_score=None, booster=None,\n",
       "                                           colsample_bylevel=None,\n",
       "                                           colsample_bynode=None,\n",
       "                                           colsample_bytree=None, gamma=None,\n",
       "                                           gpu_id=None, importance_type='gain',\n",
       "                                           interaction_constraints=None,\n",
       "                                           learning_rate=0.02,\n",
       "                                           max_delta_step=None, max_depth=None,\n",
       "                                           min_child_weight=None, missing=nan,\n",
       "                                           monotone_constraints=None,\n",
       "                                           n_estimators=600, n_job...\n",
       "                                           random_state=None, reg_alpha=None,\n",
       "                                           reg_lambda=None,\n",
       "                                           scale_pos_weight=None, silent=True,\n",
       "                                           subsample=None, tree_method=None,\n",
       "                                           validate_parameters=None,\n",
       "                                           verbosity=None),\n",
       "                   n_iter=5, n_jobs=4,\n",
       "                   param_distributions={'colsample_bytree': [0.6, 0.8, 1.0],\n",
       "                                        'gamma': [0.5, 1, 1.5, 2, 5],\n",
       "                                        'max_depth': [3, 4, 5],\n",
       "                                        'min_child_weight': [1, 5, 10],\n",
       "                                        'subsample': [0.6, 0.8, 1.0]},\n",
       "                   random_state=1001, scoring='roc_auc', verbose=3)"
      ]
     },
     "execution_count": 68,
     "metadata": {},
     "output_type": "execute_result"
    }
   ],
   "source": [
    "from sklearn.model_selection import RandomizedSearchCV, GridSearchCV\n",
    "from sklearn.model_selection import StratifiedKFold\n",
    "folds = 5\n",
    "param_comb = 5\n",
    "\n",
    "skf = StratifiedKFold(n_splits=folds, shuffle = True, random_state = 1001)\n",
    "\n",
    "random_search = RandomizedSearchCV(xgb, param_distributions=params, n_iter=param_comb, scoring='roc_auc', n_jobs=4,  verbose=3, random_state=1001 )\n",
    "random_search.fit(X_train, y_train)"
   ]
  },
  {
   "cell_type": "code",
   "execution_count": 69,
   "id": "scheduled-premiere",
   "metadata": {
    "execution": {
     "iopub.execute_input": "2021-05-12T06:53:33.151240Z",
     "iopub.status.busy": "2021-05-12T06:53:33.150518Z",
     "iopub.status.idle": "2021-05-12T06:53:33.162008Z",
     "shell.execute_reply": "2021-05-12T06:53:33.162591Z"
    },
    "papermill": {
     "duration": 0.136109,
     "end_time": "2021-05-12T06:53:33.162767",
     "exception": false,
     "start_time": "2021-05-12T06:53:33.026658",
     "status": "completed"
    },
    "tags": []
   },
   "outputs": [
    {
     "name": "stdout",
     "output_type": "stream",
     "text": [
      "\n",
      " All results:\n",
      "{'mean_fit_time': array([3.20975375, 4.37297201, 4.21255774, 3.48409257, 3.9086494 ]), 'std_fit_time': array([0.07998118, 0.14224733, 0.01631694, 0.04323706, 0.54490719]), 'mean_score_time': array([0.02476234, 0.03958912, 0.03253889, 0.02756348, 0.02276206]), 'std_score_time': array([0.00813417, 0.00828619, 0.00087941, 0.00137331, 0.00425986]), 'param_subsample': masked_array(data=[1.0, 0.6, 0.8, 1.0, 0.8],\n",
      "             mask=[False, False, False, False, False],\n",
      "       fill_value='?',\n",
      "            dtype=object), 'param_min_child_weight': masked_array(data=[5, 1, 5, 5, 1],\n",
      "             mask=[False, False, False, False, False],\n",
      "       fill_value='?',\n",
      "            dtype=object), 'param_max_depth': masked_array(data=[3, 5, 5, 5, 4],\n",
      "             mask=[False, False, False, False, False],\n",
      "       fill_value='?',\n",
      "            dtype=object), 'param_gamma': masked_array(data=[5, 1.5, 1, 5, 1],\n",
      "             mask=[False, False, False, False, False],\n",
      "       fill_value='?',\n",
      "            dtype=object), 'param_colsample_bytree': masked_array(data=[1.0, 0.8, 0.8, 0.6, 1.0],\n",
      "             mask=[False, False, False, False, False],\n",
      "       fill_value='?',\n",
      "            dtype=object), 'params': [{'subsample': 1.0, 'min_child_weight': 5, 'max_depth': 3, 'gamma': 5, 'colsample_bytree': 1.0}, {'subsample': 0.6, 'min_child_weight': 1, 'max_depth': 5, 'gamma': 1.5, 'colsample_bytree': 0.8}, {'subsample': 0.8, 'min_child_weight': 5, 'max_depth': 5, 'gamma': 1, 'colsample_bytree': 0.8}, {'subsample': 1.0, 'min_child_weight': 5, 'max_depth': 5, 'gamma': 5, 'colsample_bytree': 0.6}, {'subsample': 0.8, 'min_child_weight': 1, 'max_depth': 4, 'gamma': 1, 'colsample_bytree': 1.0}], 'split0_test_score': array([0.96103682, 0.9770292 , 0.97315126, 0.97238557, 0.97274368]), 'split1_test_score': array([0.96419265, 0.9802404 , 0.97761349, 0.97384392, 0.97598786]), 'split2_test_score': array([0.95623062, 0.97452716, 0.97150915, 0.96796811, 0.96976101]), 'split3_test_score': array([0.96413529, 0.97790236, 0.97582592, 0.97352295, 0.97502601]), 'split4_test_score': array([0.9705239 , 0.98277257, 0.98068197, 0.979127  , 0.9800378 ]), 'mean_test_score': array([0.96322386, 0.97849434, 0.97575636, 0.97336951, 0.97471127]), 'std_test_score': array([0.00466366, 0.00281381, 0.00324163, 0.00356484, 0.00341986]), 'rank_test_score': array([5, 1, 2, 4, 3], dtype=int32)}\n",
      "\n",
      " Best estimator:\n",
      "XGBClassifier(base_score=0.5, booster='gbtree', colsample_bylevel=1,\n",
      "              colsample_bynode=1, colsample_bytree=0.8, gamma=1.5, gpu_id=-1,\n",
      "              importance_type='gain', interaction_constraints='',\n",
      "              learning_rate=0.02, max_delta_step=0, max_depth=5,\n",
      "              min_child_weight=1, missing=nan, monotone_constraints='()',\n",
      "              n_estimators=600, n_jobs=1, nthread=1, num_parallel_tree=1,\n",
      "              random_state=0, reg_alpha=0, reg_lambda=1, scale_pos_weight=1,\n",
      "              silent=True, subsample=0.6, tree_method='exact',\n",
      "              validate_parameters=1, verbosity=None)\n",
      "\n",
      " Best normalized gini score for 5-fold search with 5 parameter combinations:\n",
      "0.9569886812978248\n",
      "\n",
      " Best hyperparameters:\n",
      "{'subsample': 0.6, 'min_child_weight': 1, 'max_depth': 5, 'gamma': 1.5, 'colsample_bytree': 0.8}\n"
     ]
    }
   ],
   "source": [
    "print('\\n All results:')\n",
    "print(random_search.cv_results_)\n",
    "print('\\n Best estimator:')\n",
    "print(random_search.best_estimator_)\n",
    "print('\\n Best normalized gini score for %d-fold search with %d parameter combinations:' % (folds, param_comb))\n",
    "print(random_search.best_score_ * 2 - 1)\n",
    "print('\\n Best hyperparameters:')\n",
    "print(random_search.best_params_)\n",
    "results = pd.DataFrame(random_search.cv_results_)\n",
    "results.to_csv('xgb-random-grid-search-results-01.csv', index=False)"
   ]
  },
  {
   "cell_type": "markdown",
   "id": "concrete-inclusion",
   "metadata": {
    "papermill": {
     "duration": 0.112917,
     "end_time": "2021-05-12T06:53:33.388857",
     "exception": false,
     "start_time": "2021-05-12T06:53:33.275940",
     "status": "completed"
    },
    "tags": []
   },
   "source": [
    "**CONCLUSION**"
   ]
  },
  {
   "cell_type": "markdown",
   "id": "least-penalty",
   "metadata": {
    "papermill": {
     "duration": 0.114033,
     "end_time": "2021-05-12T06:53:33.641342",
     "exception": false,
     "start_time": "2021-05-12T06:53:33.527309",
     "status": "completed"
    },
    "tags": []
   },
   "source": [
    "IN THE GIVEN DATASET WE FIRT APPLIED GENERAL PREPROCESSING TO REMOVE/IMPUTE MISSING VALUES. STANDARDIZATION WAS IMPORTANT AS INDEPENDENT FEATURES WERE IN DIFFERENT SCALES.\n",
    "WE MUST MAKE SURE THAT RARGET CLASS IS NOT IMBALANCED AND IF IT IS SO THEN WE MUST HANDLE IT USING APPROPRIATE TECHNIQUE.\n",
    "AMONG THREE MODELS APPLIED, XGBOOST WAS FOUND TO BE THE MOST SUCCESSFUL WITH F1 SCORE OF AROUND 95%. IN SUCH TYPE OF DATASET LIKE THIS WHERE THERE IS HIGH CLASS IMBALANCE ACCURACY METRIC SHOULD NOT BE RELIED ON. WE MUST SEE CONFUSION MATRIX FOR CLEAR INSIGHT OF HOW THE MODEL IS PERFORMING.\n"
   ]
  },
  {
   "cell_type": "markdown",
   "id": "delayed-trust",
   "metadata": {
    "papermill": {
     "duration": 0.112744,
     "end_time": "2021-05-12T06:53:33.866991",
     "exception": false,
     "start_time": "2021-05-12T06:53:33.754247",
     "status": "completed"
    },
    "tags": []
   },
   "source": [
    "IF YOU FIND THIS NOTEBOOK USEFUL THEN PLEASE UPVOTE!!\n",
    "\n",
    "\n",
    "\n",
    "THANK YOU.."
   ]
  }
 ],
 "metadata": {
  "kernelspec": {
   "display_name": "Python 3",
   "language": "python",
   "name": "python3"
  },
  "language_info": {
   "codemirror_mode": {
    "name": "ipython",
    "version": 3
   },
   "file_extension": ".py",
   "mimetype": "text/x-python",
   "name": "python",
   "nbconvert_exporter": "python",
   "pygments_lexer": "ipython3",
   "version": "3.7.10"
  },
  "papermill": {
   "default_parameters": {},
   "duration": 77.181035,
   "end_time": "2021-05-12T06:53:35.619147",
   "environment_variables": {},
   "exception": null,
   "input_path": "__notebook__.ipynb",
   "output_path": "__notebook__.ipynb",
   "parameters": {},
   "start_time": "2021-05-12T06:52:18.438112",
   "version": "2.3.3"
  }
 },
 "nbformat": 4,
 "nbformat_minor": 5
}
